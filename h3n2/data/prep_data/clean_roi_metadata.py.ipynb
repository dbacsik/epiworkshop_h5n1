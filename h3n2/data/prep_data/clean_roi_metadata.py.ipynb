{
 "cells": [
  {
   "cell_type": "markdown",
   "id": "789e976e-4c1c-4bfd-b31f-46f8c4edc5bf",
   "metadata": {},
   "source": [
    "# Clean Metadata\n",
    "This notebook processes raw metadata provided by GISAID into the format required by Augur. Furthermore, it extracts additional information into unique variables."
   ]
  },
  {
   "cell_type": "markdown",
   "id": "d800bc81-4d99-4720-92c7-6d6d1bd56e48",
   "metadata": {},
   "source": [
    "## Setup"
   ]
  },
  {
   "cell_type": "markdown",
   "id": "d99850d6-c6e6-4c5a-a80a-31c68f27786e",
   "metadata": {},
   "source": [
    "### Imports"
   ]
  },
  {
   "cell_type": "code",
   "execution_count": null,
   "id": "e255f85b-b0ee-47d1-a684-534516f5d15a",
   "metadata": {},
   "outputs": [],
   "source": [
    "import glob\n",
    "import numpy as np\n",
    "import pandas as pd\n",
    "import plotnine as p9\n",
    "import re\n",
    "\n",
    "# Custom cleaning functions\n",
    "from data.prep_data.clean_seqs import clean_strain_names\n",
    "from data.prep_data.clean_seqs import deduplicate"
   ]
  },
  {
   "cell_type": "markdown",
   "id": "88327281-5f11-4203-a6ad-fbec1ba18fec",
   "metadata": {},
   "source": [
    "### Files"
   ]
  },
  {
   "cell_type": "markdown",
   "id": "62bc80fd-924e-4b5c-a3d7-671c2b4dc620",
   "metadata": {},
   "source": [
    "#### Inputs"
   ]
  },
  {
   "cell_type": "code",
   "execution_count": null,
   "id": "fb9cf78f-c1bd-420f-bd98-5dfd74db9c62",
   "metadata": {},
   "outputs": [],
   "source": [
    "region = \"south_america\"\n",
    "input_gisaid_files = glob.glob(f'h3n2/data/raw/roi/*{region}*.xls')"
   ]
  },
  {
   "cell_type": "markdown",
   "id": "cacc645f-52c6-4e7c-8eae-0ce360212bc8",
   "metadata": {},
   "source": [
    "#### Outputs\n",
    "\n"
   ]
  },
  {
   "cell_type": "code",
   "execution_count": null,
   "id": "ed517378-28d4-4240-afbb-438924d49e81",
   "metadata": {},
   "outputs": [],
   "source": [
    "export_augur = 'h3n2/data/clean/south_america_clean.tsv'"
   ]
  },
  {
   "cell_type": "markdown",
   "id": "38889ca1-6104-4ffe-bc7e-45535efbc6c7",
   "metadata": {},
   "source": [
    "### Parameters"
   ]
  },
  {
   "cell_type": "code",
   "execution_count": null,
   "id": "54e5e863-2bce-4312-a46c-8ab48edda434",
   "metadata": {},
   "outputs": [],
   "source": []
  },
  {
   "cell_type": "markdown",
   "id": "005d088b-de3c-4875-be7a-ec5351950913",
   "metadata": {},
   "source": [
    "## Load raw data from GISAID"
   ]
  },
  {
   "cell_type": "code",
   "execution_count": null,
   "id": "f0eefff4-2c2a-4eb2-b07b-97ba4dd14a1c",
   "metadata": {},
   "outputs": [],
   "source": [
    "# Read each file into a dataframe\n",
    "dfs = [pd.read_excel(file) for file in input_gisaid_files]\n",
    "\n",
    "# Join all dataframes into one\n",
    "meta_raw = pd.concat(dfs, ignore_index=True)\n",
    "meta_raw.head()"
   ]
  },
  {
   "cell_type": "markdown",
   "id": "33b1de16-d5dc-4a37-a898-73bdc32fe731",
   "metadata": {},
   "source": [
    "Keep only the columns we are interested in."
   ]
  },
  {
   "cell_type": "code",
   "execution_count": null,
   "id": "ee40bc3c-4b97-4071-8f94-30f9a49afd09",
   "metadata": {},
   "outputs": [],
   "source": [
    "retained_cols = [\n",
    "    'Isolate_Name',\n",
    "    'Collection_Date',\n",
    "    'Isolate_Id',\n",
    "    'Location',\n",
    "    'Host',\n",
    "    'Submitting_Lab',\n",
    "    'Originating_Lab']\n",
    "\n",
    "meta_working = meta_raw[retained_cols]"
   ]
  },
  {
   "cell_type": "markdown",
   "id": "0ca6373c-9220-4113-b7f2-5076b976bb84",
   "metadata": {},
   "source": [
    "Standardize column name formatting:\n",
    "- all lowercase\n",
    "- underscore for word separation (already true)"
   ]
  },
  {
   "cell_type": "code",
   "execution_count": null,
   "id": "0c46add5-ffb7-4a2a-91c5-d8f6fab8019c",
   "metadata": {},
   "outputs": [],
   "source": [
    "meta_working.columns = [c.lower() for c in meta_working.columns]"
   ]
  },
  {
   "cell_type": "markdown",
   "id": "43ee7fc1-4900-4dea-92c0-69ee9674882b",
   "metadata": {},
   "source": [
    "Provide [required columns](https://docs.nextstrain.org/projects/ncov/en/wdl-optionals/analysis/data-prep.html#required-metadata) for Nextstrain."
   ]
  },
  {
   "cell_type": "code",
   "execution_count": null,
   "id": "11f117a8-9f16-4e6c-ac1e-9f0821400412",
   "metadata": {},
   "outputs": [],
   "source": [
    "meta_working = meta_working.rename(\n",
    "    columns = {\n",
    "        'isolate_name': 'strain',\n",
    "        'collection_date': 'date'\n",
    "    }\n",
    ")\n",
    "meta_working['virus'] = 'h3n2_flu'"
   ]
  },
  {
   "cell_type": "code",
   "execution_count": null,
   "id": "eb8052d9",
   "metadata": {},
   "outputs": [],
   "source": [
    "meta_working.head(n=20)"
   ]
  },
  {
   "cell_type": "markdown",
   "id": "a256ecb6-217d-473e-bec0-d12ee1cb0910",
   "metadata": {},
   "source": [
    "## Parse metadata"
   ]
  },
  {
   "cell_type": "markdown",
   "id": "3e0d2309-a31c-47cb-b143-85d8ce7d35a9",
   "metadata": {},
   "source": [
    "### Parse country"
   ]
  },
  {
   "cell_type": "code",
   "execution_count": null,
   "id": "6020c873-83df-4f5d-97c0-4e0fdde6fc13",
   "metadata": {},
   "outputs": [],
   "source": [
    "split_columns = meta_working['location'].str.split(' / ', expand=True)\n",
    "meta_working['region'] = split_columns[0]\n",
    "meta_working['country'] = split_columns[1]"
   ]
  },
  {
   "cell_type": "code",
   "execution_count": null,
   "id": "514f5dde",
   "metadata": {},
   "outputs": [],
   "source": [
    "meta_working.head(n=10)"
   ]
  },
  {
   "cell_type": "markdown",
   "id": "5c1485fa-004f-44b4-a843-a9291c04580d",
   "metadata": {},
   "source": [
    "## Clean dataframe\n",
    "Clean up values."
   ]
  },
  {
   "cell_type": "markdown",
   "id": "b7eb0777-0370-4d58-b0a1-73ff75c763ea",
   "metadata": {},
   "source": [
    "Clean strain names\n",
    "* strip leading and trailing whitespace\n",
    "* replace spaces with underscores\n",
    "* replace apostrophes with dashes"
   ]
  },
  {
   "cell_type": "code",
   "execution_count": null,
   "id": "7c4c3d6a-e3a9-4e15-aa0f-f52b19d2ebec",
   "metadata": {},
   "outputs": [],
   "source": [
    "meta_working['strain'] = (\n",
    "    meta_working['strain']\n",
    "    .apply(lambda x: clean_strain_names(x))\n",
    ")"
   ]
  },
  {
   "cell_type": "code",
   "execution_count": null,
   "id": "a9881bc0",
   "metadata": {},
   "outputs": [],
   "source": [
    "meta_working.head(n=10)['strain']"
   ]
  },
  {
   "cell_type": "markdown",
   "id": "f5c30225",
   "metadata": {},
   "source": [
    "### Deduplicate strains"
   ]
  },
  {
   "cell_type": "code",
   "execution_count": null,
   "id": "e7fae3bb",
   "metadata": {},
   "outputs": [],
   "source": [
    "meta_working = deduplicate(meta_working, 'strain')"
   ]
  },
  {
   "cell_type": "markdown",
   "id": "38d4f9a4-b8ba-4237-9b5c-7faa90bc59fd",
   "metadata": {},
   "source": [
    "### Clean up countries"
   ]
  },
  {
   "cell_type": "code",
   "execution_count": null,
   "id": "631a48dd-56e8-4140-96e5-992044bf4119",
   "metadata": {},
   "outputs": [],
   "source": [
    "meta_working['country'].value_counts(dropna=False)"
   ]
  },
  {
   "cell_type": "code",
   "execution_count": null,
   "id": "00d0ec25-2eaf-4f25-82be-2b7bbfccdc4d",
   "metadata": {},
   "outputs": [],
   "source": [
    "meta_working['country'] = (\n",
    "    meta_working['country']\n",
    "    .replace(\n",
    "        {'Venezuela, Bolivarian Republic of': 'Venezuela'}\n",
    "    ))"
   ]
  },
  {
   "cell_type": "code",
   "execution_count": null,
   "id": "b27f2fb7",
   "metadata": {},
   "outputs": [],
   "source": [
    "meta_working['country'].value_counts(dropna=False)"
   ]
  },
  {
   "cell_type": "markdown",
   "id": "e423e605-405e-4358-b347-f4a8c6e4636b",
   "metadata": {},
   "source": [
    "## Export for Augur\n",
    "Export tab-delimited file (TSV) for input into Augur.\n",
    "\n",
    "- Replace `NaN` values with a question mark character (`?`), as preferred by Augur.\n",
    "- Drop raw columns that have been parsed to new, expanded columns.\n",
    "- Put columns in preferred order. This is not necessary for Augur, but provides a standard order for my own human reading.\n",
    "- **Drop duplicate strains.**"
   ]
  },
  {
   "cell_type": "code",
   "execution_count": null,
   "id": "e46278c5-b9ba-4fa5-a96c-aa2cb3c0a303",
   "metadata": {},
   "outputs": [],
   "source": [
    "col_order = [\n",
    "    'strain',\n",
    "    'date',\n",
    "    'virus',\n",
    "    'region', \n",
    "    'country',\n",
    "    'host', \n",
    "    'isolate_id',\n",
    "    'submitting_lab',\n",
    "    'originating_lab']\n",
    "\n",
    "meta_working = meta_working[col_order]\n",
    "\n",
    "meta_clean = meta_working.fillna('?')\n",
    "\n",
    "meta_clean.to_csv(export_augur, sep='\\t', index=False)"
   ]
  },
  {
   "cell_type": "markdown",
   "id": "c938f0df",
   "metadata": {},
   "source": [
    "## Plot and list all strains by country"
   ]
  },
  {
   "cell_type": "markdown",
   "id": "c0877db9",
   "metadata": {},
   "source": [
    "### Plot strain counts by country"
   ]
  },
  {
   "cell_type": "code",
   "execution_count": null,
   "id": "8f00eff6",
   "metadata": {},
   "outputs": [],
   "source": [
    "meta_clean['strain'].count()"
   ]
  },
  {
   "cell_type": "code",
   "execution_count": null,
   "id": "081f67c0",
   "metadata": {},
   "outputs": [],
   "source": [
    "seqs_by_country = (\n",
    "    p9.ggplot(meta_clean, p9.aes(x='country'))\n",
    "    + p9.geom_bar()\n",
    "    + p9.theme_linedraw()\n",
    "    + p9.theme(axis_text_x=p9.element_text(angle=90, hjust=0.5))  # Adjust hjust value here\n",
    "    + p9.theme(figure_size=(6, 3))\n",
    ")\n",
    "\n",
    "seqs_by_country\n"
   ]
  },
  {
   "cell_type": "code",
   "execution_count": null,
   "id": "4c55cec9",
   "metadata": {},
   "outputs": [],
   "source": [
    "meta_clean['year_month'] = meta_clean['date'].str[:7]\n",
    "meta_clean.head()"
   ]
  },
  {
   "cell_type": "code",
   "execution_count": null,
   "id": "1970dc70",
   "metadata": {},
   "outputs": [],
   "source": [
    "coverage = (\n",
    "    p9.ggplot(meta_clean, p9.aes(x='year_month',\n",
    "                                 y='country',\n",
    "                                 color='country'))\n",
    "    + p9.geom_point()\n",
    "    + p9.theme_linedraw()\n",
    "    + p9.theme(axis_text_x=p9.element_text(angle=90, hjust=0.5))  # Adjust hjust value here\n",
    "    + p9.theme(figure_size=(5,\n",
    "                            2.5))\n",
    ")\n",
    "\n",
    "coverage"
   ]
  },
  {
   "cell_type": "markdown",
   "id": "e89c5871",
   "metadata": {},
   "source": [
    "### List strains by country"
   ]
  },
  {
   "cell_type": "code",
   "execution_count": null,
   "id": "37d7526f",
   "metadata": {},
   "outputs": [],
   "source": [
    "by_country = meta_working.groupby('country')['strain'].unique()\n",
    "for key, value in by_country.items():\n",
    "    print(f\"{key} (n={len(value)})\")\n",
    "    for v in value:\n",
    "        print(v)"
   ]
  },
  {
   "cell_type": "code",
   "execution_count": null,
   "id": "5eeb005b",
   "metadata": {},
   "outputs": [],
   "source": []
  },
  {
   "cell_type": "markdown",
   "id": "f7282a02",
   "metadata": {},
   "source": []
  }
 ],
 "metadata": {
  "kernelspec": {
   "display_name": "Python 3 (ipykernel)",
   "language": "python",
   "name": "python3"
  }
 },
 "nbformat": 4,
 "nbformat_minor": 5
}
