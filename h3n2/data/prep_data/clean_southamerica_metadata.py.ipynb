{
 "cells": [
  {
   "cell_type": "markdown",
   "id": "789e976e-4c1c-4bfd-b31f-46f8c4edc5bf",
   "metadata": {},
   "source": [
    "# Clean Metadata\n",
    "This notebook processes raw metadata provided by GISAID into the format required by Augur. Furthermore, it extracts additional information into unique variables."
   ]
  },
  {
   "cell_type": "markdown",
   "id": "d800bc81-4d99-4720-92c7-6d6d1bd56e48",
   "metadata": {},
   "source": [
    "## Setup"
   ]
  },
  {
   "cell_type": "markdown",
   "id": "d99850d6-c6e6-4c5a-a80a-31c68f27786e",
   "metadata": {},
   "source": [
    "### Imports"
   ]
  },
  {
   "cell_type": "code",
   "execution_count": 1,
   "id": "e255f85b-b0ee-47d1-a684-534516f5d15a",
   "metadata": {},
   "outputs": [],
   "source": [
    "import numpy as np\n",
    "import pandas as pd\n",
    "import plotnine as p9\n",
    "import re\n",
    "\n",
    "# Custom cleaning functions\n",
    "from data.prep_data.clean_seqs import clean_strain_names\n",
    "from data.prep_data.clean_seqs import deduplicate"
   ]
  },
  {
   "cell_type": "markdown",
   "id": "88327281-5f11-4203-a6ad-fbec1ba18fec",
   "metadata": {},
   "source": [
    "### Files"
   ]
  },
  {
   "cell_type": "markdown",
   "id": "62bc80fd-924e-4b5c-a3d7-671c2b4dc620",
   "metadata": {},
   "source": [
    "#### Inputs"
   ]
  },
  {
   "cell_type": "code",
   "execution_count": 2,
   "id": "fb9cf78f-c1bd-420f-bd98-5dfd74db9c62",
   "metadata": {},
   "outputs": [],
   "source": [
    "input_gisaid = 'h3n2/data/raw/background/south_america_Jun2018_Now.xls'"
   ]
  },
  {
   "cell_type": "markdown",
   "id": "cacc645f-52c6-4e7c-8eae-0ce360212bc8",
   "metadata": {},
   "source": [
    "#### Outputs\n",
    "\n"
   ]
  },
  {
   "cell_type": "code",
   "execution_count": 3,
   "id": "ed517378-28d4-4240-afbb-438924d49e81",
   "metadata": {},
   "outputs": [],
   "source": [
    "export_augur = 'h3n2/data/clean/south_america_clean.tsv'"
   ]
  },
  {
   "cell_type": "markdown",
   "id": "38889ca1-6104-4ffe-bc7e-45535efbc6c7",
   "metadata": {},
   "source": [
    "### Parameters"
   ]
  },
  {
   "cell_type": "code",
   "execution_count": null,
   "id": "54e5e863-2bce-4312-a46c-8ab48edda434",
   "metadata": {},
   "outputs": [],
   "source": []
  },
  {
   "cell_type": "markdown",
   "id": "005d088b-de3c-4875-be7a-ec5351950913",
   "metadata": {},
   "source": [
    "## Load raw data from GISAID"
   ]
  },
  {
   "cell_type": "code",
   "execution_count": 4,
   "id": "f0eefff4-2c2a-4eb2-b07b-97ba4dd14a1c",
   "metadata": {},
   "outputs": [
    {
     "ename": "FileNotFoundError",
     "evalue": "[Errno 2] No such file or directory: 'h3n2/data/raw/south_america_Jun2018_Now.xls'",
     "output_type": "error",
     "traceback": [
      "\u001b[0;31m---------------------------------------------------------------------------\u001b[0m",
      "\u001b[0;31mFileNotFoundError\u001b[0m                         Traceback (most recent call last)",
      "Cell \u001b[0;32mIn[4], line 1\u001b[0m\n\u001b[0;32m----> 1\u001b[0m meta_raw \u001b[38;5;241m=\u001b[39m pd\u001b[38;5;241m.\u001b[39mDataFrame(\u001b[43mpd\u001b[49m\u001b[38;5;241;43m.\u001b[39;49m\u001b[43mread_excel\u001b[49m\u001b[43m(\u001b[49m\u001b[43minput_gisaid\u001b[49m\u001b[43m)\u001b[49m)\n\u001b[1;32m      2\u001b[0m meta_raw\u001b[38;5;241m.\u001b[39mhead()\n",
      "File \u001b[0;32m/opt/conda/lib/python3.11/site-packages/pandas/io/excel/_base.py:504\u001b[0m, in \u001b[0;36mread_excel\u001b[0;34m(io, sheet_name, header, names, index_col, usecols, dtype, engine, converters, true_values, false_values, skiprows, nrows, na_values, keep_default_na, na_filter, verbose, parse_dates, date_parser, date_format, thousands, decimal, comment, skipfooter, storage_options, dtype_backend, engine_kwargs)\u001b[0m\n\u001b[1;32m    502\u001b[0m \u001b[38;5;28;01mif\u001b[39;00m \u001b[38;5;129;01mnot\u001b[39;00m \u001b[38;5;28misinstance\u001b[39m(io, ExcelFile):\n\u001b[1;32m    503\u001b[0m     should_close \u001b[38;5;241m=\u001b[39m \u001b[38;5;28;01mTrue\u001b[39;00m\n\u001b[0;32m--> 504\u001b[0m     io \u001b[38;5;241m=\u001b[39m \u001b[43mExcelFile\u001b[49m\u001b[43m(\u001b[49m\n\u001b[1;32m    505\u001b[0m \u001b[43m        \u001b[49m\u001b[43mio\u001b[49m\u001b[43m,\u001b[49m\n\u001b[1;32m    506\u001b[0m \u001b[43m        \u001b[49m\u001b[43mstorage_options\u001b[49m\u001b[38;5;241;43m=\u001b[39;49m\u001b[43mstorage_options\u001b[49m\u001b[43m,\u001b[49m\n\u001b[1;32m    507\u001b[0m \u001b[43m        \u001b[49m\u001b[43mengine\u001b[49m\u001b[38;5;241;43m=\u001b[39;49m\u001b[43mengine\u001b[49m\u001b[43m,\u001b[49m\n\u001b[1;32m    508\u001b[0m \u001b[43m        \u001b[49m\u001b[43mengine_kwargs\u001b[49m\u001b[38;5;241;43m=\u001b[39;49m\u001b[43mengine_kwargs\u001b[49m\u001b[43m,\u001b[49m\n\u001b[1;32m    509\u001b[0m \u001b[43m    \u001b[49m\u001b[43m)\u001b[49m\n\u001b[1;32m    510\u001b[0m \u001b[38;5;28;01melif\u001b[39;00m engine \u001b[38;5;129;01mand\u001b[39;00m engine \u001b[38;5;241m!=\u001b[39m io\u001b[38;5;241m.\u001b[39mengine:\n\u001b[1;32m    511\u001b[0m     \u001b[38;5;28;01mraise\u001b[39;00m \u001b[38;5;167;01mValueError\u001b[39;00m(\n\u001b[1;32m    512\u001b[0m         \u001b[38;5;124m\"\u001b[39m\u001b[38;5;124mEngine should not be specified when passing \u001b[39m\u001b[38;5;124m\"\u001b[39m\n\u001b[1;32m    513\u001b[0m         \u001b[38;5;124m\"\u001b[39m\u001b[38;5;124man ExcelFile - ExcelFile already has the engine set\u001b[39m\u001b[38;5;124m\"\u001b[39m\n\u001b[1;32m    514\u001b[0m     )\n",
      "File \u001b[0;32m/opt/conda/lib/python3.11/site-packages/pandas/io/excel/_base.py:1563\u001b[0m, in \u001b[0;36mExcelFile.__init__\u001b[0;34m(self, path_or_buffer, engine, storage_options, engine_kwargs)\u001b[0m\n\u001b[1;32m   1561\u001b[0m     ext \u001b[38;5;241m=\u001b[39m \u001b[38;5;124m\"\u001b[39m\u001b[38;5;124mxls\u001b[39m\u001b[38;5;124m\"\u001b[39m\n\u001b[1;32m   1562\u001b[0m \u001b[38;5;28;01melse\u001b[39;00m:\n\u001b[0;32m-> 1563\u001b[0m     ext \u001b[38;5;241m=\u001b[39m \u001b[43minspect_excel_format\u001b[49m\u001b[43m(\u001b[49m\n\u001b[1;32m   1564\u001b[0m \u001b[43m        \u001b[49m\u001b[43mcontent_or_path\u001b[49m\u001b[38;5;241;43m=\u001b[39;49m\u001b[43mpath_or_buffer\u001b[49m\u001b[43m,\u001b[49m\u001b[43m \u001b[49m\u001b[43mstorage_options\u001b[49m\u001b[38;5;241;43m=\u001b[39;49m\u001b[43mstorage_options\u001b[49m\n\u001b[1;32m   1565\u001b[0m \u001b[43m    \u001b[49m\u001b[43m)\u001b[49m\n\u001b[1;32m   1566\u001b[0m     \u001b[38;5;28;01mif\u001b[39;00m ext \u001b[38;5;129;01mis\u001b[39;00m \u001b[38;5;28;01mNone\u001b[39;00m:\n\u001b[1;32m   1567\u001b[0m         \u001b[38;5;28;01mraise\u001b[39;00m \u001b[38;5;167;01mValueError\u001b[39;00m(\n\u001b[1;32m   1568\u001b[0m             \u001b[38;5;124m\"\u001b[39m\u001b[38;5;124mExcel file format cannot be determined, you must specify \u001b[39m\u001b[38;5;124m\"\u001b[39m\n\u001b[1;32m   1569\u001b[0m             \u001b[38;5;124m\"\u001b[39m\u001b[38;5;124man engine manually.\u001b[39m\u001b[38;5;124m\"\u001b[39m\n\u001b[1;32m   1570\u001b[0m         )\n",
      "File \u001b[0;32m/opt/conda/lib/python3.11/site-packages/pandas/io/excel/_base.py:1419\u001b[0m, in \u001b[0;36minspect_excel_format\u001b[0;34m(content_or_path, storage_options)\u001b[0m\n\u001b[1;32m   1416\u001b[0m \u001b[38;5;28;01mif\u001b[39;00m \u001b[38;5;28misinstance\u001b[39m(content_or_path, \u001b[38;5;28mbytes\u001b[39m):\n\u001b[1;32m   1417\u001b[0m     content_or_path \u001b[38;5;241m=\u001b[39m BytesIO(content_or_path)\n\u001b[0;32m-> 1419\u001b[0m \u001b[38;5;28;01mwith\u001b[39;00m \u001b[43mget_handle\u001b[49m\u001b[43m(\u001b[49m\n\u001b[1;32m   1420\u001b[0m \u001b[43m    \u001b[49m\u001b[43mcontent_or_path\u001b[49m\u001b[43m,\u001b[49m\u001b[43m \u001b[49m\u001b[38;5;124;43m\"\u001b[39;49m\u001b[38;5;124;43mrb\u001b[39;49m\u001b[38;5;124;43m\"\u001b[39;49m\u001b[43m,\u001b[49m\u001b[43m \u001b[49m\u001b[43mstorage_options\u001b[49m\u001b[38;5;241;43m=\u001b[39;49m\u001b[43mstorage_options\u001b[49m\u001b[43m,\u001b[49m\u001b[43m \u001b[49m\u001b[43mis_text\u001b[49m\u001b[38;5;241;43m=\u001b[39;49m\u001b[38;5;28;43;01mFalse\u001b[39;49;00m\n\u001b[1;32m   1421\u001b[0m \u001b[43m\u001b[49m\u001b[43m)\u001b[49m \u001b[38;5;28;01mas\u001b[39;00m handle:\n\u001b[1;32m   1422\u001b[0m     stream \u001b[38;5;241m=\u001b[39m handle\u001b[38;5;241m.\u001b[39mhandle\n\u001b[1;32m   1423\u001b[0m     stream\u001b[38;5;241m.\u001b[39mseek(\u001b[38;5;241m0\u001b[39m)\n",
      "File \u001b[0;32m/opt/conda/lib/python3.11/site-packages/pandas/io/common.py:872\u001b[0m, in \u001b[0;36mget_handle\u001b[0;34m(path_or_buf, mode, encoding, compression, memory_map, is_text, errors, storage_options)\u001b[0m\n\u001b[1;32m    863\u001b[0m         handle \u001b[38;5;241m=\u001b[39m \u001b[38;5;28mopen\u001b[39m(\n\u001b[1;32m    864\u001b[0m             handle,\n\u001b[1;32m    865\u001b[0m             ioargs\u001b[38;5;241m.\u001b[39mmode,\n\u001b[0;32m   (...)\u001b[0m\n\u001b[1;32m    868\u001b[0m             newline\u001b[38;5;241m=\u001b[39m\u001b[38;5;124m\"\u001b[39m\u001b[38;5;124m\"\u001b[39m,\n\u001b[1;32m    869\u001b[0m         )\n\u001b[1;32m    870\u001b[0m     \u001b[38;5;28;01melse\u001b[39;00m:\n\u001b[1;32m    871\u001b[0m         \u001b[38;5;66;03m# Binary mode\u001b[39;00m\n\u001b[0;32m--> 872\u001b[0m         handle \u001b[38;5;241m=\u001b[39m \u001b[38;5;28;43mopen\u001b[39;49m\u001b[43m(\u001b[49m\u001b[43mhandle\u001b[49m\u001b[43m,\u001b[49m\u001b[43m \u001b[49m\u001b[43mioargs\u001b[49m\u001b[38;5;241;43m.\u001b[39;49m\u001b[43mmode\u001b[49m\u001b[43m)\u001b[49m\n\u001b[1;32m    873\u001b[0m     handles\u001b[38;5;241m.\u001b[39mappend(handle)\n\u001b[1;32m    875\u001b[0m \u001b[38;5;66;03m# Convert BytesIO or file objects passed with an encoding\u001b[39;00m\n",
      "\u001b[0;31mFileNotFoundError\u001b[0m: [Errno 2] No such file or directory: 'h3n2/data/raw/south_america_Jun2018_Now.xls'"
     ]
    }
   ],
   "source": [
    "meta_raw = pd.DataFrame(pd.read_excel(input_gisaid))\n",
    "meta_raw.head()"
   ]
  },
  {
   "cell_type": "markdown",
   "id": "33b1de16-d5dc-4a37-a898-73bdc32fe731",
   "metadata": {},
   "source": [
    "Keep only the columns we are interested in."
   ]
  },
  {
   "cell_type": "code",
   "execution_count": null,
   "id": "ee40bc3c-4b97-4071-8f94-30f9a49afd09",
   "metadata": {},
   "outputs": [],
   "source": [
    "retained_cols = [\n",
    "    'Isolate_Name',\n",
    "    'Collection_Date',\n",
    "    'Isolate_Id',\n",
    "    'Location',\n",
    "    'Host',\n",
    "    'Submitting_Lab',\n",
    "    'Originating_Lab']\n",
    "\n",
    "meta_working = meta_raw[retained_cols]"
   ]
  },
  {
   "cell_type": "markdown",
   "id": "0ca6373c-9220-4113-b7f2-5076b976bb84",
   "metadata": {},
   "source": [
    "Standardize column name formatting:\n",
    "- all lowercase\n",
    "- underscore for word separation (already true)"
   ]
  },
  {
   "cell_type": "code",
   "execution_count": null,
   "id": "0c46add5-ffb7-4a2a-91c5-d8f6fab8019c",
   "metadata": {},
   "outputs": [],
   "source": [
    "meta_working.columns = [c.lower() for c in meta_working.columns]"
   ]
  },
  {
   "cell_type": "markdown",
   "id": "43ee7fc1-4900-4dea-92c0-69ee9674882b",
   "metadata": {},
   "source": [
    "Provide [required columns](https://docs.nextstrain.org/projects/ncov/en/wdl-optionals/analysis/data-prep.html#required-metadata) for Nextstrain."
   ]
  },
  {
   "cell_type": "code",
   "execution_count": null,
   "id": "11f117a8-9f16-4e6c-ac1e-9f0821400412",
   "metadata": {},
   "outputs": [],
   "source": [
    "meta_working = meta_working.rename(\n",
    "    columns = {\n",
    "        'isolate_name': 'strain',\n",
    "        'collection_date': 'date'\n",
    "    }\n",
    ")\n",
    "meta_working['virus'] = 'h3n2_flu'"
   ]
  },
  {
   "cell_type": "code",
   "execution_count": null,
   "id": "eb8052d9",
   "metadata": {},
   "outputs": [],
   "source": [
    "meta_working.head(n=20)"
   ]
  },
  {
   "cell_type": "markdown",
   "id": "a256ecb6-217d-473e-bec0-d12ee1cb0910",
   "metadata": {},
   "source": [
    "## Parse metadata"
   ]
  },
  {
   "cell_type": "markdown",
   "id": "3e0d2309-a31c-47cb-b143-85d8ce7d35a9",
   "metadata": {},
   "source": [
    "### Parse country"
   ]
  },
  {
   "cell_type": "code",
   "execution_count": null,
   "id": "6020c873-83df-4f5d-97c0-4e0fdde6fc13",
   "metadata": {},
   "outputs": [],
   "source": [
    "split_columns = meta_working['location'].str.split(' / ', expand=True)\n",
    "meta_working['region'] = split_columns[0]\n",
    "meta_working['country'] = split_columns[1]"
   ]
  },
  {
   "cell_type": "code",
   "execution_count": null,
   "id": "514f5dde",
   "metadata": {},
   "outputs": [],
   "source": [
    "meta_working.head(n=10)"
   ]
  },
  {
   "cell_type": "markdown",
   "id": "5c1485fa-004f-44b4-a843-a9291c04580d",
   "metadata": {},
   "source": [
    "## Clean dataframe\n",
    "Clean up values."
   ]
  },
  {
   "cell_type": "markdown",
   "id": "b7eb0777-0370-4d58-b0a1-73ff75c763ea",
   "metadata": {},
   "source": [
    "Clean strain names\n",
    "* strip leading and trailing whitespace\n",
    "* replace spaces with underscores\n",
    "* replace apostrophes with dashes"
   ]
  },
  {
   "cell_type": "code",
   "execution_count": null,
   "id": "7c4c3d6a-e3a9-4e15-aa0f-f52b19d2ebec",
   "metadata": {},
   "outputs": [],
   "source": [
    "meta_working['strain'] = (\n",
    "    meta_working['strain']\n",
    "    .apply(lambda x: clean_strain_names(x))\n",
    ")"
   ]
  },
  {
   "cell_type": "code",
   "execution_count": null,
   "id": "a9881bc0",
   "metadata": {},
   "outputs": [],
   "source": [
    "meta_working.head(n=10)['strain']"
   ]
  },
  {
   "cell_type": "markdown",
   "id": "f5c30225",
   "metadata": {},
   "source": [
    "### Deduplicate strains"
   ]
  },
  {
   "cell_type": "code",
   "execution_count": null,
   "id": "e7fae3bb",
   "metadata": {},
   "outputs": [],
   "source": [
    "meta_working = deduplicate(meta_working, 'strain')"
   ]
  },
  {
   "cell_type": "markdown",
   "id": "38d4f9a4-b8ba-4237-9b5c-7faa90bc59fd",
   "metadata": {},
   "source": [
    "### Clean up countries"
   ]
  },
  {
   "cell_type": "code",
   "execution_count": null,
   "id": "631a48dd-56e8-4140-96e5-992044bf4119",
   "metadata": {},
   "outputs": [],
   "source": [
    "meta_working['country'].value_counts(dropna=False)"
   ]
  },
  {
   "cell_type": "code",
   "execution_count": null,
   "id": "00d0ec25-2eaf-4f25-82be-2b7bbfccdc4d",
   "metadata": {},
   "outputs": [],
   "source": [
    "meta_working['country'] = (\n",
    "    meta_working['country']\n",
    "    .replace(\n",
    "        {'Venezuela, Bolivarian Republic of': 'Venezuela'}\n",
    "    ))"
   ]
  },
  {
   "cell_type": "code",
   "execution_count": null,
   "id": "b27f2fb7",
   "metadata": {},
   "outputs": [],
   "source": [
    "meta_working['country'].value_counts(dropna=False)"
   ]
  },
  {
   "cell_type": "markdown",
   "id": "e423e605-405e-4358-b347-f4a8c6e4636b",
   "metadata": {},
   "source": [
    "## Export for Augur\n",
    "Export tab-delimited file (TSV) for input into Augur.\n",
    "\n",
    "- Replace `NaN` values with a question mark character (`?`), as preferred by Augur.\n",
    "- Drop raw columns that have been parsed to new, expanded columns.\n",
    "- Put columns in preferred order. This is not necessary for Augur, but provides a standard order for my own human reading.\n",
    "- **Drop duplicate strains.**"
   ]
  },
  {
   "cell_type": "code",
   "execution_count": null,
   "id": "e46278c5-b9ba-4fa5-a96c-aa2cb3c0a303",
   "metadata": {},
   "outputs": [],
   "source": [
    "col_order = [\n",
    "    'strain',\n",
    "    'date',\n",
    "    'virus',\n",
    "    'region', \n",
    "    'country',\n",
    "    'host', \n",
    "    'isolate_id',\n",
    "    'submitting_lab',\n",
    "    'originating_lab']\n",
    "\n",
    "meta_working = meta_working[col_order]\n",
    "\n",
    "meta_clean = meta_working.fillna('?')\n",
    "\n",
    "meta_clean.to_csv(export_augur, sep='\\t', index=False)"
   ]
  },
  {
   "cell_type": "markdown",
   "id": "c938f0df",
   "metadata": {},
   "source": [
    "## Plot and list all strains by country"
   ]
  },
  {
   "cell_type": "markdown",
   "id": "c0877db9",
   "metadata": {},
   "source": [
    "### Plot strain counts by country"
   ]
  },
  {
   "cell_type": "code",
   "execution_count": null,
   "id": "8f00eff6",
   "metadata": {},
   "outputs": [],
   "source": [
    "meta_clean['strain'].count()"
   ]
  },
  {
   "cell_type": "code",
   "execution_count": null,
   "id": "081f67c0",
   "metadata": {},
   "outputs": [],
   "source": [
    "seqs_by_country = (\n",
    "    p9.ggplot(meta_clean, p9.aes(x='country'))\n",
    "    + p9.geom_bar()\n",
    "    + p9.theme_linedraw()\n",
    "    + p9.theme(axis_text_x=p9.element_text(angle=90, hjust=0.5))  # Adjust hjust value here\n",
    "    + p9.theme(figure_size=(6, 3))\n",
    ")\n",
    "\n",
    "seqs_by_country\n"
   ]
  },
  {
   "cell_type": "code",
   "execution_count": null,
   "id": "4c55cec9",
   "metadata": {},
   "outputs": [],
   "source": [
    "meta_clean['year_month'] = meta_clean['date'].str[:7]\n",
    "meta_clean.head()"
   ]
  },
  {
   "cell_type": "code",
   "execution_count": null,
   "id": "1970dc70",
   "metadata": {},
   "outputs": [],
   "source": [
    "coverage = (\n",
    "    p9.ggplot(meta_clean, p9.aes(x='year_month',\n",
    "                                 y='country',\n",
    "                                 color='country'))\n",
    "    + p9.geom_point()\n",
    "    + p9.theme_linedraw()\n",
    "    + p9.theme(axis_text_x=p9.element_text(angle=90, hjust=0.5))  # Adjust hjust value here\n",
    "    + p9.theme(figure_size=(5,\n",
    "                            2.5))\n",
    ")\n",
    "\n",
    "coverage"
   ]
  },
  {
   "cell_type": "markdown",
   "id": "e89c5871",
   "metadata": {},
   "source": [
    "### List strains by country"
   ]
  },
  {
   "cell_type": "code",
   "execution_count": null,
   "id": "37d7526f",
   "metadata": {},
   "outputs": [],
   "source": [
    "by_country = meta_working.groupby('country')['strain'].unique()\n",
    "for key, value in by_country.items():\n",
    "    print(f\"{key} (n={len(value)})\")\n",
    "    for v in value:\n",
    "        print(v)"
   ]
  },
  {
   "cell_type": "code",
   "execution_count": null,
   "id": "5eeb005b",
   "metadata": {},
   "outputs": [],
   "source": []
  },
  {
   "cell_type": "markdown",
   "id": "f7282a02",
   "metadata": {},
   "source": []
  }
 ],
 "metadata": {
  "kernelspec": {
   "display_name": "Python 3 (ipykernel)",
   "language": "python",
   "name": "python3"
  },
  "language_info": {
   "codemirror_mode": {
    "name": "ipython",
    "version": 3
   },
   "file_extension": ".py",
   "mimetype": "text/x-python",
   "name": "python",
   "nbconvert_exporter": "python",
   "pygments_lexer": "ipython3",
   "version": "3.11.6"
  }
 },
 "nbformat": 4,
 "nbformat_minor": 5
}
