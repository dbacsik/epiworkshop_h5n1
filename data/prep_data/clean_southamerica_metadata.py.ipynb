{
 "cells": [
  {
   "cell_type": "markdown",
   "id": "789e976e-4c1c-4bfd-b31f-46f8c4edc5bf",
   "metadata": {},
   "source": [
    "# Clean Metadata\n",
    "This notebook processes raw metadata provided by GISAID into the format required by Augur. Furthermore, it extracts additional information into unique variables."
   ]
  },
  {
   "cell_type": "markdown",
   "id": "d800bc81-4d99-4720-92c7-6d6d1bd56e48",
   "metadata": {},
   "source": [
    "## Setup"
   ]
  },
  {
   "cell_type": "markdown",
   "id": "d99850d6-c6e6-4c5a-a80a-31c68f27786e",
   "metadata": {},
   "source": [
    "### Imports"
   ]
  },
  {
   "cell_type": "code",
   "execution_count": 1,
   "id": "e255f85b-b0ee-47d1-a684-534516f5d15a",
   "metadata": {},
   "outputs": [],
   "source": [
    "import numpy as np\n",
    "import pandas as pd"
   ]
  },
  {
   "cell_type": "markdown",
   "id": "88327281-5f11-4203-a6ad-fbec1ba18fec",
   "metadata": {},
   "source": [
    "### Files"
   ]
  },
  {
   "cell_type": "markdown",
   "id": "62bc80fd-924e-4b5c-a3d7-671c2b4dc620",
   "metadata": {},
   "source": [
    "#### Inputs"
   ]
  },
  {
   "cell_type": "code",
   "execution_count": 2,
   "id": "fb9cf78f-c1bd-420f-bd98-5dfd74db9c62",
   "metadata": {},
   "outputs": [],
   "source": [
    "input_gisaid = 'data/raw/southamerica_metadata.xls'"
   ]
  },
  {
   "cell_type": "markdown",
   "id": "cacc645f-52c6-4e7c-8eae-0ce360212bc8",
   "metadata": {},
   "source": [
    "#### Outputs\n",
    "\n"
   ]
  },
  {
   "cell_type": "code",
   "execution_count": 3,
   "id": "ed517378-28d4-4240-afbb-438924d49e81",
   "metadata": {},
   "outputs": [],
   "source": [
    "export_augur = 'data/clean/southamerica_metadata_clean.tsv'"
   ]
  },
  {
   "cell_type": "markdown",
   "id": "38889ca1-6104-4ffe-bc7e-45535efbc6c7",
   "metadata": {},
   "source": [
    "### Parameters"
   ]
  },
  {
   "cell_type": "code",
   "execution_count": null,
   "id": "54e5e863-2bce-4312-a46c-8ab48edda434",
   "metadata": {},
   "outputs": [],
   "source": []
  },
  {
   "cell_type": "markdown",
   "id": "005d088b-de3c-4875-be7a-ec5351950913",
   "metadata": {},
   "source": [
    "## Load raw data from GISAID"
   ]
  },
  {
   "cell_type": "code",
   "execution_count": 4,
   "id": "f0eefff4-2c2a-4eb2-b07b-97ba4dd14a1c",
   "metadata": {},
   "outputs": [
    {
     "data": {
      "text/html": [
       "<div>\n",
       "<style scoped>\n",
       "    .dataframe tbody tr th:only-of-type {\n",
       "        vertical-align: middle;\n",
       "    }\n",
       "\n",
       "    .dataframe tbody tr th {\n",
       "        vertical-align: top;\n",
       "    }\n",
       "\n",
       "    .dataframe thead th {\n",
       "        text-align: right;\n",
       "    }\n",
       "</style>\n",
       "<table border=\"1\" class=\"dataframe\">\n",
       "  <thead>\n",
       "    <tr style=\"text-align: right;\">\n",
       "      <th></th>\n",
       "      <th>Isolate_Id</th>\n",
       "      <th>PB2 Segment_Id</th>\n",
       "      <th>PB1 Segment_Id</th>\n",
       "      <th>PA Segment_Id</th>\n",
       "      <th>HA Segment_Id</th>\n",
       "      <th>NP Segment_Id</th>\n",
       "      <th>NA Segment_Id</th>\n",
       "      <th>MP Segment_Id</th>\n",
       "      <th>NS Segment_Id</th>\n",
       "      <th>HE Segment_Id</th>\n",
       "      <th>...</th>\n",
       "      <th>PB2 INSDC_Upload</th>\n",
       "      <th>PB1 INSDC_Upload</th>\n",
       "      <th>PA INSDC_Upload</th>\n",
       "      <th>HA INSDC_Upload</th>\n",
       "      <th>NP INSDC_Upload</th>\n",
       "      <th>NA INSDC_Upload</th>\n",
       "      <th>MP INSDC_Upload</th>\n",
       "      <th>NS INSDC_Upload</th>\n",
       "      <th>HE INSDC_Upload</th>\n",
       "      <th>P3 INSDC_Upload</th>\n",
       "    </tr>\n",
       "  </thead>\n",
       "  <tbody>\n",
       "    <tr>\n",
       "      <th>0</th>\n",
       "      <td>EPI_ISL_18698459</td>\n",
       "      <td>EPI2872452|A/Goose/Argentina/389-1/2023_PB2</td>\n",
       "      <td>EPI2872453|A/Goose/Argentina/389-1/2023_PB1</td>\n",
       "      <td>EPI2872451|A/Goose/Argentina/389-1/2023_PA</td>\n",
       "      <td>EPI2872455|A/Goose/Argentina/389-1/2023_HA</td>\n",
       "      <td>EPI2872448|A/Goose/Argentina/389-1/2023_NP</td>\n",
       "      <td>EPI2872454|A/Goose/Argentina/389-1/2023_NA</td>\n",
       "      <td>EPI2872450|A/Goose/Argentina/389-1/2023_MP</td>\n",
       "      <td>EPI2872449|A/Goose/Argentina/389-1/2023_NS</td>\n",
       "      <td>NaN</td>\n",
       "      <td>...</td>\n",
       "      <td>NaN</td>\n",
       "      <td>NaN</td>\n",
       "      <td>NaN</td>\n",
       "      <td>NaN</td>\n",
       "      <td>NaN</td>\n",
       "      <td>NaN</td>\n",
       "      <td>NaN</td>\n",
       "      <td>NaN</td>\n",
       "      <td>NaN</td>\n",
       "      <td>NaN</td>\n",
       "    </tr>\n",
       "    <tr>\n",
       "      <th>1</th>\n",
       "      <td>EPI_ISL_17950994</td>\n",
       "      <td>NaN</td>\n",
       "      <td>NaN</td>\n",
       "      <td>NaN</td>\n",
       "      <td>EPI2610769|A/goose/Argentina/SENASA-140223/202...</td>\n",
       "      <td>NaN</td>\n",
       "      <td>NaN</td>\n",
       "      <td>NaN</td>\n",
       "      <td>NaN</td>\n",
       "      <td>NaN</td>\n",
       "      <td>...</td>\n",
       "      <td>NaN</td>\n",
       "      <td>NaN</td>\n",
       "      <td>NaN</td>\n",
       "      <td>NaN</td>\n",
       "      <td>NaN</td>\n",
       "      <td>NaN</td>\n",
       "      <td>NaN</td>\n",
       "      <td>NaN</td>\n",
       "      <td>NaN</td>\n",
       "      <td>NaN</td>\n",
       "    </tr>\n",
       "    <tr>\n",
       "      <th>2</th>\n",
       "      <td>EPI_ISL_17885869</td>\n",
       "      <td>EPI2609130|A/goose/Araucania/239189-1/2023_PB2</td>\n",
       "      <td>EPI2609128|A/goose/Araucania/239189-1/2023_PB1</td>\n",
       "      <td>EPI2644589|A/goose/Araucania/239189-1/2023_PA</td>\n",
       "      <td>EPI2609126|A/goose/Araucania/239189-1/2023_HA</td>\n",
       "      <td>EPI2609127|A/goose/Araucania/239189-1/2023_NP</td>\n",
       "      <td>EPI2637161|A/goose/Araucania/239189-1/2023_NA</td>\n",
       "      <td>EPI2609131|A/goose/Araucania/239189-1/2023_MP</td>\n",
       "      <td>EPI2609129|A/goose/Araucania/239189-1/2023_NS</td>\n",
       "      <td>NaN</td>\n",
       "      <td>...</td>\n",
       "      <td>NaN</td>\n",
       "      <td>NaN</td>\n",
       "      <td>NaN</td>\n",
       "      <td>NaN</td>\n",
       "      <td>NaN</td>\n",
       "      <td>NaN</td>\n",
       "      <td>NaN</td>\n",
       "      <td>NaN</td>\n",
       "      <td>NaN</td>\n",
       "      <td>NaN</td>\n",
       "    </tr>\n",
       "    <tr>\n",
       "      <th>3</th>\n",
       "      <td>EPI_ISL_17527083</td>\n",
       "      <td>NaN</td>\n",
       "      <td>NaN</td>\n",
       "      <td>NaN</td>\n",
       "      <td>EPI2528164|A/goose/Argentina/140223/2023</td>\n",
       "      <td>NaN</td>\n",
       "      <td>EPI2528165|A/goose/Argentina/140223/2023</td>\n",
       "      <td>NaN</td>\n",
       "      <td>NaN</td>\n",
       "      <td>NaN</td>\n",
       "      <td>...</td>\n",
       "      <td>NaN</td>\n",
       "      <td>NaN</td>\n",
       "      <td>NaN</td>\n",
       "      <td>OQ832505</td>\n",
       "      <td>NaN</td>\n",
       "      <td>OQ832506</td>\n",
       "      <td>NaN</td>\n",
       "      <td>NaN</td>\n",
       "      <td>NaN</td>\n",
       "      <td>NaN</td>\n",
       "    </tr>\n",
       "    <tr>\n",
       "      <th>4</th>\n",
       "      <td>EPI_ISL_18777130</td>\n",
       "      <td>EPI2921506|A/gull/Maule/SJCEIRR-2343291/2023</td>\n",
       "      <td>NaN</td>\n",
       "      <td>EPI2921502|A/gull/Maule/SJCEIRR-2343291/2023</td>\n",
       "      <td>EPI2921503|A/gull/Maule/SJCEIRR-2343291/2023</td>\n",
       "      <td>EPI2921504|A/gull/Maule/SJCEIRR-2343291/2023</td>\n",
       "      <td>EPI2921501|A/gull/Maule/SJCEIRR-2343291/2023</td>\n",
       "      <td>EPI2921507|A/gull/Maule/SJCEIRR-2343291/2023</td>\n",
       "      <td>EPI2921505|A/gull/Maule/SJCEIRR-2343291/2023</td>\n",
       "      <td>NaN</td>\n",
       "      <td>...</td>\n",
       "      <td>NaN</td>\n",
       "      <td>NaN</td>\n",
       "      <td>NaN</td>\n",
       "      <td>NaN</td>\n",
       "      <td>NaN</td>\n",
       "      <td>NaN</td>\n",
       "      <td>NaN</td>\n",
       "      <td>NaN</td>\n",
       "      <td>NaN</td>\n",
       "      <td>NaN</td>\n",
       "    </tr>\n",
       "  </tbody>\n",
       "</table>\n",
       "<p>5 rows × 64 columns</p>\n",
       "</div>"
      ],
      "text/plain": [
       "         Isolate_Id                                  PB2 Segment_Id  \\\n",
       "0  EPI_ISL_18698459     EPI2872452|A/Goose/Argentina/389-1/2023_PB2   \n",
       "1  EPI_ISL_17950994                                             NaN   \n",
       "2  EPI_ISL_17885869  EPI2609130|A/goose/Araucania/239189-1/2023_PB2   \n",
       "3  EPI_ISL_17527083                                             NaN   \n",
       "4  EPI_ISL_18777130    EPI2921506|A/gull/Maule/SJCEIRR-2343291/2023   \n",
       "\n",
       "                                   PB1 Segment_Id  \\\n",
       "0     EPI2872453|A/Goose/Argentina/389-1/2023_PB1   \n",
       "1                                             NaN   \n",
       "2  EPI2609128|A/goose/Araucania/239189-1/2023_PB1   \n",
       "3                                             NaN   \n",
       "4                                             NaN   \n",
       "\n",
       "                                   PA Segment_Id  \\\n",
       "0     EPI2872451|A/Goose/Argentina/389-1/2023_PA   \n",
       "1                                            NaN   \n",
       "2  EPI2644589|A/goose/Araucania/239189-1/2023_PA   \n",
       "3                                            NaN   \n",
       "4   EPI2921502|A/gull/Maule/SJCEIRR-2343291/2023   \n",
       "\n",
       "                                       HA Segment_Id  \\\n",
       "0         EPI2872455|A/Goose/Argentina/389-1/2023_HA   \n",
       "1  EPI2610769|A/goose/Argentina/SENASA-140223/202...   \n",
       "2      EPI2609126|A/goose/Araucania/239189-1/2023_HA   \n",
       "3           EPI2528164|A/goose/Argentina/140223/2023   \n",
       "4       EPI2921503|A/gull/Maule/SJCEIRR-2343291/2023   \n",
       "\n",
       "                                   NP Segment_Id  \\\n",
       "0     EPI2872448|A/Goose/Argentina/389-1/2023_NP   \n",
       "1                                            NaN   \n",
       "2  EPI2609127|A/goose/Araucania/239189-1/2023_NP   \n",
       "3                                            NaN   \n",
       "4   EPI2921504|A/gull/Maule/SJCEIRR-2343291/2023   \n",
       "\n",
       "                                   NA Segment_Id  \\\n",
       "0     EPI2872454|A/Goose/Argentina/389-1/2023_NA   \n",
       "1                                            NaN   \n",
       "2  EPI2637161|A/goose/Araucania/239189-1/2023_NA   \n",
       "3       EPI2528165|A/goose/Argentina/140223/2023   \n",
       "4   EPI2921501|A/gull/Maule/SJCEIRR-2343291/2023   \n",
       "\n",
       "                                   MP Segment_Id  \\\n",
       "0     EPI2872450|A/Goose/Argentina/389-1/2023_MP   \n",
       "1                                            NaN   \n",
       "2  EPI2609131|A/goose/Araucania/239189-1/2023_MP   \n",
       "3                                            NaN   \n",
       "4   EPI2921507|A/gull/Maule/SJCEIRR-2343291/2023   \n",
       "\n",
       "                                   NS Segment_Id  HE Segment_Id  ...  \\\n",
       "0     EPI2872449|A/Goose/Argentina/389-1/2023_NS            NaN  ...   \n",
       "1                                            NaN            NaN  ...   \n",
       "2  EPI2609129|A/goose/Araucania/239189-1/2023_NS            NaN  ...   \n",
       "3                                            NaN            NaN  ...   \n",
       "4   EPI2921505|A/gull/Maule/SJCEIRR-2343291/2023            NaN  ...   \n",
       "\n",
       "   PB2 INSDC_Upload PB1 INSDC_Upload PA INSDC_Upload  HA INSDC_Upload  \\\n",
       "0               NaN              NaN             NaN              NaN   \n",
       "1               NaN              NaN             NaN              NaN   \n",
       "2               NaN              NaN             NaN              NaN   \n",
       "3               NaN              NaN             NaN         OQ832505   \n",
       "4               NaN              NaN             NaN              NaN   \n",
       "\n",
       "  NP INSDC_Upload NA INSDC_Upload MP INSDC_Upload NS INSDC_Upload  \\\n",
       "0             NaN             NaN             NaN             NaN   \n",
       "1             NaN             NaN             NaN             NaN   \n",
       "2             NaN             NaN             NaN             NaN   \n",
       "3             NaN        OQ832506             NaN             NaN   \n",
       "4             NaN             NaN             NaN             NaN   \n",
       "\n",
       "  HE INSDC_Upload P3 INSDC_Upload  \n",
       "0             NaN             NaN  \n",
       "1             NaN             NaN  \n",
       "2             NaN             NaN  \n",
       "3             NaN             NaN  \n",
       "4             NaN             NaN  \n",
       "\n",
       "[5 rows x 64 columns]"
      ]
     },
     "execution_count": 4,
     "metadata": {},
     "output_type": "execute_result"
    }
   ],
   "source": [
    "meta_raw = pd.DataFrame(pd.read_excel(input_gisaid))\n",
    "meta_raw.head()"
   ]
  },
  {
   "cell_type": "markdown",
   "id": "33b1de16-d5dc-4a37-a898-73bdc32fe731",
   "metadata": {},
   "source": [
    "Keep only the columns we are interested in."
   ]
  },
  {
   "cell_type": "code",
   "execution_count": 5,
   "id": "ee40bc3c-4b97-4071-8f94-30f9a49afd09",
   "metadata": {},
   "outputs": [],
   "source": [
    "retained_cols = [\n",
    "    'Isolate_Name',\n",
    "    'Collection_Date',\n",
    "    'Isolate_Id',\n",
    "    'Location',\n",
    "    'Host',\n",
    "    'Submitting_Lab',\n",
    "    'Originating_Lab']\n",
    "\n",
    "meta_working = meta_raw[retained_cols]"
   ]
  },
  {
   "cell_type": "markdown",
   "id": "0ca6373c-9220-4113-b7f2-5076b976bb84",
   "metadata": {},
   "source": [
    "Standardize column name formatting:\n",
    "- all lowercase\n",
    "- underscore for word separation (already true)"
   ]
  },
  {
   "cell_type": "code",
   "execution_count": 6,
   "id": "0c46add5-ffb7-4a2a-91c5-d8f6fab8019c",
   "metadata": {},
   "outputs": [],
   "source": [
    "meta_working.columns = [c.lower() for c in meta_working.columns]"
   ]
  },
  {
   "cell_type": "markdown",
   "id": "43ee7fc1-4900-4dea-92c0-69ee9674882b",
   "metadata": {},
   "source": [
    "Provide [required columns](https://docs.nextstrain.org/projects/ncov/en/wdl-optionals/analysis/data-prep.html#required-metadata) for Nextstrain."
   ]
  },
  {
   "cell_type": "code",
   "execution_count": 7,
   "id": "11f117a8-9f16-4e6c-ac1e-9f0821400412",
   "metadata": {},
   "outputs": [],
   "source": [
    "meta_working = meta_working.rename(\n",
    "    columns = {\n",
    "        'isolate_name': 'strain',\n",
    "        'collection_date': 'date'\n",
    "    }\n",
    ")\n",
    "meta_working['virus'] = 'avian_flu'"
   ]
  },
  {
   "cell_type": "markdown",
   "id": "a256ecb6-217d-473e-bec0-d12ee1cb0910",
   "metadata": {},
   "source": [
    "## Parse metadata"
   ]
  },
  {
   "cell_type": "markdown",
   "id": "3e0d2309-a31c-47cb-b143-85d8ce7d35a9",
   "metadata": {},
   "source": [
    "### Parse country"
   ]
  },
  {
   "cell_type": "code",
   "execution_count": 8,
   "id": "6020c873-83df-4f5d-97c0-4e0fdde6fc13",
   "metadata": {},
   "outputs": [],
   "source": [
    "split_columns = meta_working['location'].str.split(' / ', expand=True)\n",
    "meta_working['region'] = split_columns[0]\n",
    "meta_working['country'] = split_columns[1]"
   ]
  },
  {
   "cell_type": "markdown",
   "id": "083ac99e-c517-4eb4-85a3-d7066f72d3f5",
   "metadata": {},
   "source": [
    "### Parse host"
   ]
  },
  {
   "cell_type": "code",
   "execution_count": 9,
   "id": "0235fa76-3dff-4ce3-a987-831293ed0d3b",
   "metadata": {},
   "outputs": [],
   "source": [
    "# Rename raw host column:\n",
    "meta_working = meta_working.rename(\n",
    "    columns = {\n",
    "        'host': 'host_raw',\n",
    "    }\n",
    ")\n",
    "\n",
    "# Empirical lists of avian and human values\n",
    "hosts_avian = ['Chicken', 'Other avian', 'Avian',\n",
    "               'Wild bird', 'Turkey', 'Duck',\n",
    "               'Gull', 'Gallus gallus domesticus',\n",
    "               'Goose', 'Penguin', 'Swan',\n",
    "               'Anas platyrhynchos var. domesticus',\n",
    "               'Anas cyanoptera', 'Rynchops niger',\n",
    "               'Cormorant', 'Calidris alba',\n",
    "               'Larosterna inca']\n",
    "hosts_mammal = ['Other mammals', 'Feline']\n",
    "\n",
    "def label_host(val):\n",
    "    if val in hosts_avian:\n",
    "        return 'Avian'\n",
    "    elif val in hosts_mammal:\n",
    "        return 'Mammal'\n",
    "    elif val == 'Human':\n",
    "        return 'Human'\n",
    "    else:\n",
    "        return np.nan\n",
    "\n",
    "meta_working['host'] = (\n",
    "    meta_working['host_raw']\n",
    "    .apply(label_host))"
   ]
  },
  {
   "cell_type": "markdown",
   "id": "5c1485fa-004f-44b4-a843-a9291c04580d",
   "metadata": {},
   "source": [
    "## Clean dataframe\n",
    "Clean up values."
   ]
  },
  {
   "cell_type": "markdown",
   "id": "b7eb0777-0370-4d58-b0a1-73ff75c763ea",
   "metadata": {},
   "source": [
    "Clean strain names"
   ]
  },
  {
   "cell_type": "code",
   "execution_count": 10,
   "id": "e2503790",
   "metadata": {},
   "outputs": [
    {
     "data": {
      "text/plain": [
       "'A/sea lion/Brazil/KU-3584/2023'"
      ]
     },
     "execution_count": 10,
     "metadata": {},
     "output_type": "execute_result"
    }
   ],
   "source": [
    "meta_working['strain'][100]"
   ]
  },
  {
   "cell_type": "code",
   "execution_count": 11,
   "id": "7c4c3d6a-e3a9-4e15-aa0f-f52b19d2ebec",
   "metadata": {},
   "outputs": [],
   "source": [
    "meta_working['strain'] = (\n",
    "    meta_working['strain']\n",
    "    .str.strip()\n",
    ")\n",
    "meta_working['strain'] = (\n",
    "    meta_working['strain']\n",
    "    .str.replace(' ', '_')\n",
    ")"
   ]
  },
  {
   "cell_type": "code",
   "execution_count": 12,
   "id": "a9881bc0",
   "metadata": {},
   "outputs": [
    {
     "data": {
      "text/plain": [
       "'A/sea_lion/Brazil/KU-3584/2023'"
      ]
     },
     "execution_count": 12,
     "metadata": {},
     "output_type": "execute_result"
    }
   ],
   "source": [
    "meta_working['strain'][100]"
   ]
  },
  {
   "cell_type": "markdown",
   "id": "38d4f9a4-b8ba-4237-9b5c-7faa90bc59fd",
   "metadata": {},
   "source": [
    "### Clean up countries"
   ]
  },
  {
   "cell_type": "code",
   "execution_count": 13,
   "id": "631a48dd-56e8-4140-96e5-992044bf4119",
   "metadata": {},
   "outputs": [
    {
     "data": {
      "text/plain": [
       "country\n",
       "Chile                                101\n",
       "Peru                                  64\n",
       "Argentina                             55\n",
       "Uruguay                               12\n",
       "Ecuador                                8\n",
       "Brazil                                 7\n",
       "Colombia                               6\n",
       "Venezuela, Bolivarian Republic of      5\n",
       "Name: count, dtype: int64"
      ]
     },
     "execution_count": 13,
     "metadata": {},
     "output_type": "execute_result"
    }
   ],
   "source": [
    "meta_working['country'].value_counts(dropna=False)"
   ]
  },
  {
   "cell_type": "code",
   "execution_count": 14,
   "id": "00d0ec25-2eaf-4f25-82be-2b7bbfccdc4d",
   "metadata": {},
   "outputs": [],
   "source": [
    "meta_working['country'] = (\n",
    "    meta_working['country']\n",
    "    .replace(\n",
    "        {'Venezuela, Bolivarian Republic of': 'Venezuela'}\n",
    "    ))"
   ]
  },
  {
   "cell_type": "markdown",
   "id": "05246e80-9d53-4788-ad0e-8bcecdf2f1d3",
   "metadata": {},
   "source": [
    "### Clean up labs"
   ]
  },
  {
   "cell_type": "code",
   "execution_count": 15,
   "id": "b9046bf0-5673-439b-b165-3e25301f6c95",
   "metadata": {},
   "outputs": [],
   "source": [
    "meta_working['submitting_lab'] = (\n",
    "    meta_working['submitting_lab']\n",
    "    .replace(\n",
    "        {'Instituto Nacional de Investigacion en Salud Publica (INSPI)': \\\n",
    "         'Instituto Nacional de Investigación en Salud Pública INSPI',\n",
    "         'Instituto de Salud Publica': \\\n",
    "         'Instituto de Salud Publica de Chile'}\n",
    "    ))"
   ]
  },
  {
   "cell_type": "code",
   "execution_count": 16,
   "id": "af901f31-3a1f-4c71-92f2-804e50163cc6",
   "metadata": {},
   "outputs": [],
   "source": [
    "meta_working['originating_lab'] = (\n",
    "    meta_working['originating_lab']\n",
    "    .replace(\n",
    "        {'Instituto Nacional de Investigacion en Salud Publica (INSPI)': \\\n",
    "         'Instituto Nacional de Investigación en Salud Pública INSPI',\n",
    "         'INSPI': \\\n",
    "         'Instituto Nacional de Investigación en Salud Pública INSPI',}\n",
    "    ))"
   ]
  },
  {
   "cell_type": "markdown",
   "id": "e423e605-405e-4358-b347-f4a8c6e4636b",
   "metadata": {},
   "source": [
    "## Export for Augur\n",
    "Export tab-delimited file (TSV) for input into Augur.\n",
    "\n",
    "- Replace `NaN` values with a question mark character (`?`), as preferred by Augur.\n",
    "- Drop raw columns that have been parsed to new, expanded columns.\n",
    "- Put columns in preferred order. This is not necessary for Augur, but provides a standard order for my own human reading.\n",
    "- **Drop duplicate strains.**"
   ]
  },
  {
   "cell_type": "code",
   "execution_count": 17,
   "id": "e46278c5-b9ba-4fa5-a96c-aa2cb3c0a303",
   "metadata": {},
   "outputs": [],
   "source": [
    "col_order = [\n",
    "    'strain',\n",
    "    'date',\n",
    "    'virus',\n",
    "    'region', \n",
    "    'country',\n",
    "    'host', \n",
    "    'isolate_id',\n",
    "    'submitting_lab',\n",
    "    'originating_lab']\n",
    "\n",
    "meta_working = meta_working[col_order]\n",
    "\n",
    "meta_clean = meta_working.fillna('?')\n",
    "\n",
    "meta_clean = meta_clean.drop_duplicates(subset='strain', keep=False)\n",
    "\n",
    "meta_clean.to_csv(export_augur, sep='\\t', index=False)"
   ]
  },
  {
   "cell_type": "markdown",
   "id": "c938f0df",
   "metadata": {},
   "source": [
    "## List all sequences for including before filtering on criteria."
   ]
  },
  {
   "cell_type": "code",
   "execution_count": 22,
   "id": "8f00eff6",
   "metadata": {},
   "outputs": [
    {
     "data": {
      "text/plain": [
       "256"
      ]
     },
     "execution_count": 22,
     "metadata": {},
     "output_type": "execute_result"
    }
   ],
   "source": [
    "meta_clean['strain'].count()"
   ]
  },
  {
   "cell_type": "code",
   "execution_count": 20,
   "id": "37d7526f",
   "metadata": {},
   "outputs": [
    {
     "name": "stdout",
     "output_type": "stream",
     "text": [
      "A/Goose/Argentina/389-1/2023\n",
      "A/goose/Argentina/SENASA-140223/2023\n",
      "A/goose/Araucania/239189-1/2023\n",
      "A/goose/Argentina/140223/2023\n",
      "A/gull/Maule/SJCEIRR-2343291/2023\n",
      "A/brown-hooded_gull/Los_Rios/SJCEIRR-2470941/2023\n",
      "A/brown-hooded_gull/Los_Rios/SJCEIRR-2470931/2023\n",
      "A/Belcher_gull/Peru/UNMSM-A267/2022\n",
      "A/kelp_gull/Maule/239349/2023\n",
      "A/gray_gull/Tarapaca/232825-1/2023\n",
      "A/gull/Peru/LIM-INS-006/2023\n",
      "A/Gull/Chile/7023-2/2022\n",
      "A/Gull/Chile/7023-3/2022\n",
      "A/black_skimmer/Chile/C61962/2022\n",
      "A/black-necked_swan/Los_Rios/SJCEIRR-2472921/2023\n",
      "A/black-necked_swan/Uruguay/UDELAR-014-M3/2023\n",
      "A/black-necked_swan/Uruguay/UDELAR-078-M2/2023\n",
      "A/turkey/Valparaiso/SJCEIRR-2455621/2023\n",
      "A/Turkey/Argentina/1711-2/2023\n",
      "A/Turkey/Argentina/1710-1/2023\n",
      "A/Turkey/Argentina/1348-3/2023\n",
      "A/Turkey/Argentina/753-1/2023\n",
      "A/backyard_turkey/Uruguay/UDELAR-124-M6/2023\n",
      "A/turkey/Araucania/241892-3/2023\n",
      "A/turkey/Nuble/240489-1/2023\n",
      "A/turkey/Nuble/241568-1/2023\n",
      "A/tern/Espirito_Santo/MAPA-1339N2/2023\n",
      "A/frigatebird/Rio_de_Janeiro/MAPA-1532N/2023\n",
      "A/peruvian_booby/OHiggins/SJCEIRR-2427551/2023\n",
      "A/caracara/Coquimbo/SJCEIRR-2423261/2023\n",
      "A/pelican/Biobio/SJCEIRR-236574/2023\n",
      "A/peruvian_booby/Antofagasta/SJCEIRR-2361091/2023\n",
      "A/pelican/Peru/PIU-SER016/2022\n",
      "A/pelican/Peru/PIU-SER028/2022\n",
      "A/pelican/Peru/PIU-SER019/2022\n",
      "A/pelican/Peru/PIU-SER013/2022\n",
      "A/peruvian_booby/Peru/LIM-INS-012/2023\n",
      "A/guanay_cormorant/Peru/CAL-INS-009/2023\n",
      "A/peruvian_booby/Peru/CAL-INS-008/2023\n",
      "A/peruvian_booby/Peru/CAL-INS-007/2023\n",
      "A/peruvian_booby/Peru/LIM-INS-005/2023\n",
      "A/peruvian_booby/Peru/LIM-INS-004/2023\n",
      "A/Peruvian_booby/Peru/UNMSM-A296/2022\n",
      "A/Guanay_cormorant/Peru/UNMSM-A275/2022\n",
      "A/pelican/Peru/PIU-028/2022\n",
      "A/pelican/Peru/PIU-019/2022\n",
      "A/pelican/Peru/PIU-013/2022\n",
      "A/sanderling/Peru/PIU-005/2022\n",
      "A/guanay_cormorant/Peru/PIU-024/2022\n",
      "A/black_crowned_night_heron/Antofagasta/228705-2/2022\n",
      "A/whimbrel/Valparaiso/239946/2023\n",
      "A/pelican/Valparaiso/233447-2/2023\n",
      "A/pelican/Valparaiso/233450-1/2023\n",
      "A/pelican/Valparaiso/234040/2023\n",
      "A/sanderling/Arica_y_Parinacota/230758-1/2022\n",
      "A/sanderling/Arica_y_Parinacota/240265/2023\n",
      "A/tern/Maule/238507/2023\n",
      "A/turkey_vulture/Antofagasta/228252-1/2022\n",
      "A/heron/Antofagasta/228705-3/2022\n",
      "A/turkey_vulture/Valparaiso/230187-1/2022\n",
      "A/blackish_oystercatcher/OHiggins/240628/2023\n",
      "A/chiloe_wigeon/OHiggins/240893-2/2023\n",
      "A/whimbrel/Coquimbo/239964/2023\n",
      "A/pelican/Valparaiso/233091-2/2023\n",
      "A/elegant_tern/Arica_y_Parinacota/229476-1/2022\n",
      "A/elegant_tern/Tarapaca/229133-1/2022\n",
      "A/great_egret/Araucania/240518/2023\n",
      "A/pelican/Antofagasta/228244-2/2022\n",
      "A/pelican/Tarapaca/227436-2/2022\n",
      "A/pelican/Antofagasta/228246-2/2022\n",
      "A/pelican/Valparaiso/233418-1/2023\n",
      "A/pelican/Antofagasta/228246-3/2022\n",
      "A/pelican/Valparaiso/233091-1/2023\n",
      "A/pelican/Antofagasta/228272-1/2022\n",
      "A/pelican/Antofagasta/228318-1/2022\n",
      "A/pelican/Atacama/229424-2/2022\n",
      "A/pelican/Atacama/229450-2/2022\n",
      "A/pelican/Atacama/230158-1/2022\n",
      "A/pelican/Atacama/230158-2/2022\n",
      "A/pelican/Coquimbo/230310-1/2023\n",
      "A/pelican/Coquimbo/231946-1/2023\n",
      "A/pelican/Maule/231155-2/2023\n",
      "A/pelican/Nuble/233947-2/2023\n",
      "A/pelican/OHiggins/233663-1/2023\n",
      "A/pelican/OHiggins/233721-1/2023\n",
      "A/black_skimmer/Maule/240379/2023\n",
      "A/pelican/Peru/AISA0464/2022\n",
      "A/pelican/Peru/AIS0541/2022\n",
      "A/pelican/Peru/AIS0538/2022\n",
      "A/avian/Peru/AISA0451/2022\n",
      "A/avian/Peru/AISA0446/2022\n",
      "A/lion/Peru/AIS0554/2023\n",
      "A/porpoise/Antofagasta/SJCEIRR-2465062/2023\n",
      "A/porpoise/Atacama/SJCEIRR-245355/2023\n",
      "A/dolphin/Maule/SJCEIRR-246026/2023\n",
      "A/dolphin/Nuble/SJCEIRR-2482441/2023\n",
      "A/porpoise/Antofagasta/SJCEIRR-2465061/2023\n",
      "A/sea_lion/Valparaiso/SJCEIRR-2431361/2023\n",
      "A/sea_lion/Biobio/SJCEIRR-2462961/2023\n",
      "A/sea_lion/Brazil/KU-3594/2023\n",
      "A/sea_lion/Brazil/KU-3584/2023\n",
      "A/dolphin/Peru/PIU-SER002/2022\n",
      "A/South_American_Sea_Lion/Peru/LIM-SER036/2023\n",
      "A/south_american_sea_lion/Peru/AQP-SER00B/2023\n",
      "A/south_american_sea_lion/Peru/AQP-SER00R/2023\n",
      "A/south_american_sea_lion/Peru/AQP-SER00K/2023\n",
      "A/Sea_Lion/Argentina/3893-1/2023\n",
      "A/Sea_Lion/Argentina/3849-4/2023\n",
      "A/sea_lion/Peru/TAC-INS-011/2023\n",
      "A/sea_lion/Peru/TAC-INS-010/2023\n",
      "A/sea_lion/Peru/AQP-SER00R/2023\n",
      "A/sea_lion/Peru/AQP-SER00K/2023\n",
      "A/sea_lion/Peru/AQP-SER00B/2023\n",
      "A/dolphin/Peru/PIU-002/2022\n",
      "A/Sea_Lion/Peru/LIM-SER036/2023\n",
      "A/sea_lion/Arica_y_Parinacota/240270-1/2023\n",
      "A/sea_lion/Tarapaca/240524-2/2023\n",
      "A/Pelican/Chile/227023-1/2022\n",
      "A/Pelican/Chile/7087-1/2022\n",
      "A/Pelican/Chile/6924-1/2022\n",
      "A/Pelican/Chile/6618-1/2022\n",
      "A/Pelican/Chile/6618-2/2022\n",
      "A/Pelican/Chile/6958-1/2022\n",
      "A/Pelican/Chile/6955-3/2022\n",
      "A/Pelican/Chile/6955-1/2022\n",
      "A/gray_gull/Chile/C61947/2022\n",
      "A/Chile/25945/2023\n",
      "A/Ecuador/6563/2023\n",
      "A/Thalasseus_acuflavidus/Brazil-ES/23ES1A0025/2023\n",
      "A/Thalasseus_maximus/Brazil-ES/23ES1A0008/2023\n",
      "A/Thalasseus_acuflavidus/Brazil-ES/23ES1A0009/2023\n",
      "A/Avian/Argentina/1790-5/2023\n",
      "A/Avian/Argentina/1762-2/2023\n",
      "A/Avian/Argentina/586-4/2023\n",
      "A/Avian/Argentina/579-5/2023\n",
      "A/Pelican/Venezuela/Inf9/2022\n",
      "A/brown_booby/Peru/23-005629-003-original/2022\n",
      "A/owl/Peru/23-005629-001-original/2022\n",
      "A/chicken/Peru/23-005607-003-original/2022\n",
      "A/chicken/Peru/23-005607-002-original/2022\n",
      "A/chicken/Peru/23-005607-001-original/2022\n",
      "A/chicken/Atacama/SJCEIRR-2352542/2023\n",
      "A/chicken/Araucania/SJCEIRR-244469/2023\n",
      "A/chicken/Aysen/SJCEIRR-2477922/2023\n",
      "A/chicken/Aysen/SJCEIRR-2477921/2023\n",
      "A/chicken/Metropolitana/SJCEIRR-2431481/2023\n",
      "A/chicken/OHiggins/SJCEIRR-2425812/2023\n",
      "A/Chicken/Argentina/2016-2/2023\n",
      "A/Chicken/Argentina/895-1/2023\n",
      "A/Chicken/Argentina/747-1/2023\n",
      "A/Chicken/Argentina/1495-4/2023\n",
      "A/Chicken/Argentina/3695-3/2023\n",
      "A/Chicken/Argentina/3657-2/2023\n",
      "A/Chicken/Argentina/3346-1/2023\n",
      "A/Chicken/Argentina/2796-2/2023\n",
      "A/Chicken/Argentina/2483-3/2023\n",
      "A/Chicken/Argentina/2305-6/2023\n",
      "A/Chicken/Argentina/2305-1/2023\n",
      "A/Chicken/Argentina/2064-3/2023\n",
      "A/Chicken/Argentina/2049-3/2023\n",
      "A/Chicken/Argentina/2034-5/2023\n",
      "A/Chicken/Argentina/1984-4/2023\n",
      "A/Chicken/Argentina/1976-2/2023\n",
      "A/Chicken/Argentina/1708-1/2023\n",
      "A/Chicken/Argentina/1530-3/2023\n",
      "A/Chicken/Argentina/1416-3/2023\n",
      "A/Chicken/Argentina/1375-6/2023\n",
      "A/Chicken/Argentina/1340-2/2023\n",
      "A/Chicken/Argentina/1200-1/2023\n",
      "A/Chicken/Argentina/1147-2/2023\n",
      "A/Chicken/Argentina/1035-1/2023\n",
      "A/Chicken/Argentina/919-3/2023\n",
      "A/Chicken/Argentina/858-1/2023\n",
      "A/Chicken/Argentina/736-1/2023\n",
      "A/Chicken/Argentina/606-1/2023\n",
      "A/Chicken/Argentina/588-4/2023\n",
      "A/Chicken/Argentina/578-2/2023\n",
      "A/Chicken/Argentina/559-8/2023\n",
      "A/Chicken/Argentina/556-6/2023\n",
      "A/Chicken/Argentina/509-2/2023\n",
      "A/Chicken/Argentina/506-2/2023\n",
      "A/Chicken/Argentina/501-1/2023\n",
      "A/Chicken/Argentina/491-2/2023\n",
      "A/Chicken/Argentina/485-6/2023\n",
      "A/Chicken/Argentina/481-2/2023\n",
      "A/Chicken/Argentina/477-5/2023\n",
      "A/Chicken/Argentina/464-4/2023\n",
      "A/backyard_chicken/Uruguay/UDELAR-040-M7/2023\n",
      "A/backyard_chicken/Uruguay/UDELAR-047-M1/2023\n",
      "A/backyard_chicken/Uruguay/UDELAR-047-M3/2023\n",
      "A/backyard_chicken/Uruguay/UDELAR-124-M1/2023\n",
      "A/backyard_chicken/Uruguay/UDELAR-127-M1/2023\n",
      "A/backyard_chicken/Uruguay/UDELAR-127-M4/2023\n",
      "A/backyard_chicken/Uruguay/UDELAR-144-M3/2023\n",
      "A/backyard_chicken/Uruguay/UDELAR-040-M5/2023\n",
      "A/chicken/Araucania/239189-2/2023\n",
      "A/chicken/Araucania/239569-1/2023\n",
      "A/chicken/Araucania/239569-2/2023\n",
      "A/chicken/Araucania/240481-1/2023\n",
      "A/chicken/Araucania/241892-2/2023\n",
      "A/chicken/Araucania/241914-1/2023\n",
      "A/chicken/Nuble/239136/2023\n",
      "A/chicken/Nuble/240155/2023\n",
      "A/chicken/Nuble/240684/2023\n",
      "A/chicken/Nuble/241557-1/2023\n",
      "A/chicken/Nuble/241681-1/2023\n",
      "A/chicken/OHiggins/241252-1/2023\n",
      "A/chicken/OHiggins/241252-3/2023\n",
      "A/chicken/OHiggins/241252-6/2023\n",
      "A/chicken/Peru/AIS0551/2022\n",
      "A/chicken/Peru/AIS0549/2022\n",
      "A/chicken/Peru/AIS0550/2022\n",
      "A/chicken/Peru/AIS0548/2022\n",
      "A/chicken/Peru/AIS0547/2022\n",
      "A/chicken/Peru/AIS0545/2022\n",
      "A/chicken/Peru/AIS0544/2022\n",
      "A/chicken/Peru/AIS0543/2022\n",
      "A/chicken/Peru/AIS0542/2022\n",
      "A/chicken/Peru/AIS0540/2022\n",
      "A/chicken/Peru/AIS0539/2022\n",
      "A/chicken/Peru/AIS0546/2022\n",
      "A/chicken/Magdalena/ICA-3503/2022\n",
      "A/chicken/Cordoba/ICA-3499/2022\n",
      "A/chicken/Choco/ICA-3504/2022\n",
      "A/chicken/Choco/ICA-3502/2022\n",
      "A/chicken/Bolivar/ICA-3500/2022\n",
      "A/Duck/Argentina/2197-1/2023\n",
      "A/Duck/Argentina/1712-5/2023\n",
      "A/backyard_duck/Uruguay/UDELAR-124-M3/2023\n",
      "A/duck/Araucania/239189-3/2023\n",
      "A/duck/Araucania/240481-2/2023\n",
      "A/duck/Araucania/241914-2/2023\n",
      "A/duck/Maule/240466-1/2023\n",
      "A/duck/Choco/ICA-3501/2022\n",
      "A/duck/Peru/CAL-INS-013/2023\n",
      "A/humboldt_penguin/Antofagasta/SJCEIRR-2360632/2023\n",
      "A/humboldt_penguin/Coquimbo/239590/2023\n",
      "A/humboldt_penguin/Tarapaca/238744-2/2023\n",
      "A/wildbird-Sula-nebouxii/Ecuador/7611/2023\n",
      "A/wildbird-Sula-nebouxii/Ecuador/7607/2023\n",
      "A/wildbird-Fregata-magnificens/Ecuador/IC06-4590/2023\n",
      "A/wildbird-Fregata-magnificens/Ecuador/IC03-4587/2023\n",
      "A/Pelican/Venezuela/Pel4/2022\n",
      "A/Pelican/Venezuela/Pel3/2022\n",
      "A/pelican/Peru/PIU-INS-001/2022\n",
      "A/Pelecanus_occidentalis/Venezuela/4S4/2022\n",
      "A/Pelecanus_occidentalis/Venezuela/3S4/2022\n",
      "A/Guanay_cormorant/Peru/PIU-SER024/2022\n",
      "A/Sanderling/Peru/PIU-SER005/2022\n",
      "A/chicken/Ecuador/02/2022\n",
      "A/chicken/Ecuador/04/2022\n",
      "A/chicken/Ecuador/03/2022\n",
      "A/chicken/Peru/LIM-INS-003/2022\n",
      "A/chicken/Peru/LAM-INS-002/2022\n",
      "A/duck/Peru/LAM-INS-015/2023\n",
      "A/duck/Peru/LAM-INS-014/2023\n"
     ]
    }
   ],
   "source": [
    "for x in meta_clean['strain'].to_list():\n",
    "    print(x)"
   ]
  },
  {
   "cell_type": "markdown",
   "id": "f7282a02",
   "metadata": {},
   "source": []
  }
 ],
 "metadata": {
  "kernelspec": {
   "display_name": "Python 3 (ipykernel)",
   "language": "python",
   "name": "python3"
  },
  "language_info": {
   "codemirror_mode": {
    "name": "ipython",
    "version": 3
   },
   "file_extension": ".py",
   "mimetype": "text/x-python",
   "name": "python",
   "nbconvert_exporter": "python",
   "pygments_lexer": "ipython3",
   "version": "3.11.6"
  }
 },
 "nbformat": 4,
 "nbformat_minor": 5
}
