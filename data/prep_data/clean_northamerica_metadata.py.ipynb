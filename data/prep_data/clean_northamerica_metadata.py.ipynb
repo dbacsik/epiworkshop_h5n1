{
 "cells": [
  {
   "cell_type": "markdown",
   "id": "789e976e-4c1c-4bfd-b31f-46f8c4edc5bf",
   "metadata": {},
   "source": [
    "# Clean Metadata\n",
    "This notebook processes raw metadata provided by GISAID into the format required by Augur. Furthermore, it extracts additional information into unique variables."
   ]
  },
  {
   "cell_type": "markdown",
   "id": "d800bc81-4d99-4720-92c7-6d6d1bd56e48",
   "metadata": {},
   "source": [
    "## Setup"
   ]
  },
  {
   "cell_type": "markdown",
   "id": "d99850d6-c6e6-4c5a-a80a-31c68f27786e",
   "metadata": {},
   "source": [
    "### Imports"
   ]
  },
  {
   "cell_type": "code",
   "execution_count": 1,
   "id": "e255f85b-b0ee-47d1-a684-534516f5d15a",
   "metadata": {},
   "outputs": [],
   "source": [
    "import numpy as np\n",
    "import pandas as pd"
   ]
  },
  {
   "cell_type": "markdown",
   "id": "88327281-5f11-4203-a6ad-fbec1ba18fec",
   "metadata": {},
   "source": [
    "### Files"
   ]
  },
  {
   "cell_type": "markdown",
   "id": "62bc80fd-924e-4b5c-a3d7-671c2b4dc620",
   "metadata": {},
   "source": [
    "#### Inputs"
   ]
  },
  {
   "cell_type": "code",
   "execution_count": 2,
   "id": "fb9cf78f-c1bd-420f-bd98-5dfd74db9c62",
   "metadata": {},
   "outputs": [],
   "source": [
    "input_gisaid = 'data/raw/northamerica_metadata.xls'"
   ]
  },
  {
   "cell_type": "markdown",
   "id": "cacc645f-52c6-4e7c-8eae-0ce360212bc8",
   "metadata": {},
   "source": [
    "#### Outputs\n",
    "\n"
   ]
  },
  {
   "cell_type": "code",
   "execution_count": 3,
   "id": "ed517378-28d4-4240-afbb-438924d49e81",
   "metadata": {},
   "outputs": [],
   "source": [
    "export_augur = 'data/clean/northamerica_metadata_clean.tsv'"
   ]
  },
  {
   "cell_type": "markdown",
   "id": "38889ca1-6104-4ffe-bc7e-45535efbc6c7",
   "metadata": {},
   "source": [
    "### Parameters"
   ]
  },
  {
   "cell_type": "code",
   "execution_count": null,
   "id": "54e5e863-2bce-4312-a46c-8ab48edda434",
   "metadata": {},
   "outputs": [],
   "source": []
  },
  {
   "cell_type": "markdown",
   "id": "005d088b-de3c-4875-be7a-ec5351950913",
   "metadata": {},
   "source": [
    "## Load raw data from GISAID"
   ]
  },
  {
   "cell_type": "code",
   "execution_count": 4,
   "id": "f0eefff4-2c2a-4eb2-b07b-97ba4dd14a1c",
   "metadata": {},
   "outputs": [
    {
     "data": {
      "text/html": [
       "<div>\n",
       "<style scoped>\n",
       "    .dataframe tbody tr th:only-of-type {\n",
       "        vertical-align: middle;\n",
       "    }\n",
       "\n",
       "    .dataframe tbody tr th {\n",
       "        vertical-align: top;\n",
       "    }\n",
       "\n",
       "    .dataframe thead th {\n",
       "        text-align: right;\n",
       "    }\n",
       "</style>\n",
       "<table border=\"1\" class=\"dataframe\">\n",
       "  <thead>\n",
       "    <tr style=\"text-align: right;\">\n",
       "      <th></th>\n",
       "      <th>Isolate_Id</th>\n",
       "      <th>PB2 Segment_Id</th>\n",
       "      <th>PB1 Segment_Id</th>\n",
       "      <th>PA Segment_Id</th>\n",
       "      <th>HA Segment_Id</th>\n",
       "      <th>NP Segment_Id</th>\n",
       "      <th>NA Segment_Id</th>\n",
       "      <th>MP Segment_Id</th>\n",
       "      <th>NS Segment_Id</th>\n",
       "      <th>HE Segment_Id</th>\n",
       "      <th>...</th>\n",
       "      <th>PB2 INSDC_Upload</th>\n",
       "      <th>PB1 INSDC_Upload</th>\n",
       "      <th>PA INSDC_Upload</th>\n",
       "      <th>HA INSDC_Upload</th>\n",
       "      <th>NP INSDC_Upload</th>\n",
       "      <th>NA INSDC_Upload</th>\n",
       "      <th>MP INSDC_Upload</th>\n",
       "      <th>NS INSDC_Upload</th>\n",
       "      <th>HE INSDC_Upload</th>\n",
       "      <th>P3 INSDC_Upload</th>\n",
       "    </tr>\n",
       "  </thead>\n",
       "  <tbody>\n",
       "    <tr>\n",
       "      <th>0</th>\n",
       "      <td>EPI_ISL_9880015</td>\n",
       "      <td>EPI1985927|Seq1 [organism=Influenza A virus](A...</td>\n",
       "      <td>EPI1985928|Seq2 [organism=Influenza A virus](A...</td>\n",
       "      <td>EPI1985926|Seq3 [organism=Influenza A virus](A...</td>\n",
       "      <td>EPI1985930|Seq4 [organism=Influenza A virus](A...</td>\n",
       "      <td>EPI1985923|Seq5 [organism=Influenza A virus](A...</td>\n",
       "      <td>EPI1985929|Seq6 [organism=Influenza A virus](A...</td>\n",
       "      <td>EPI1985925|Seq7 [organism=Influenza A virus](A...</td>\n",
       "      <td>EPI1985924|Seq8 [organism=Influenza A virus](A...</td>\n",
       "      <td>NaN</td>\n",
       "      <td>...</td>\n",
       "      <td>NaN</td>\n",
       "      <td>NaN</td>\n",
       "      <td>NaN</td>\n",
       "      <td>NaN</td>\n",
       "      <td>NaN</td>\n",
       "      <td>NaN</td>\n",
       "      <td>NaN</td>\n",
       "      <td>NaN</td>\n",
       "      <td>NaN</td>\n",
       "      <td>NaN</td>\n",
       "    </tr>\n",
       "    <tr>\n",
       "      <th>1</th>\n",
       "      <td>EPI_ISL_9880019</td>\n",
       "      <td>EPI1985935|Seq1_A/mallard/North Carolina/AH018...</td>\n",
       "      <td>EPI1985936|Seq2_A/mallard/North Carolina/AH018...</td>\n",
       "      <td>EPI1985934|Seq3_A/mallard/North Carolina/AH018...</td>\n",
       "      <td>EPI1985938|Seq4_A/mallard/North Carolina/AH018...</td>\n",
       "      <td>EPI1985931|Seq5_A/mallard/North Carolina/AH018...</td>\n",
       "      <td>EPI1985937|Seq6_A/mallard/North Carolina/AH018...</td>\n",
       "      <td>EPI1985933|Seq7_A/mallard/North Carolina/AH018...</td>\n",
       "      <td>EPI1985932|Seq8_A/mallard/North Carolina/AH018...</td>\n",
       "      <td>NaN</td>\n",
       "      <td>...</td>\n",
       "      <td>NaN</td>\n",
       "      <td>NaN</td>\n",
       "      <td>NaN</td>\n",
       "      <td>NaN</td>\n",
       "      <td>NaN</td>\n",
       "      <td>NaN</td>\n",
       "      <td>NaN</td>\n",
       "      <td>NaN</td>\n",
       "      <td>NaN</td>\n",
       "      <td>NaN</td>\n",
       "    </tr>\n",
       "    <tr>\n",
       "      <th>2</th>\n",
       "      <td>EPI_ISL_9880021</td>\n",
       "      <td>EPI1985943|Seq1_A/northern pintail/North Carol...</td>\n",
       "      <td>EPI1985944|Seq2_A/northern pintail/North Carol...</td>\n",
       "      <td>EPI1985942|Seq3_A/northern pintail/North Carol...</td>\n",
       "      <td>EPI1985946|Seq4_A/northern pintail/North Carol...</td>\n",
       "      <td>EPI1985939|Seq5_A/northern pintail/North Carol...</td>\n",
       "      <td>EPI1985945|Seq6_A/northern pintail/North Carol...</td>\n",
       "      <td>EPI1985941|Seq7_A/northern pintail/North Carol...</td>\n",
       "      <td>EPI1985940|Seq8_A/northern pintail/North Carol...</td>\n",
       "      <td>NaN</td>\n",
       "      <td>...</td>\n",
       "      <td>NaN</td>\n",
       "      <td>NaN</td>\n",
       "      <td>NaN</td>\n",
       "      <td>NaN</td>\n",
       "      <td>NaN</td>\n",
       "      <td>NaN</td>\n",
       "      <td>NaN</td>\n",
       "      <td>NaN</td>\n",
       "      <td>NaN</td>\n",
       "      <td>NaN</td>\n",
       "    </tr>\n",
       "    <tr>\n",
       "      <th>3</th>\n",
       "      <td>EPI_ISL_9880151</td>\n",
       "      <td>EPI1985951|Seq1_A/gadwall/North Carolina/AH018...</td>\n",
       "      <td>EPI1985952|Seq2_A/gadwall/North Carolina/AH018...</td>\n",
       "      <td>EPI1985950|Seq3_A/gadwall/North Carolina/AH018...</td>\n",
       "      <td>EPI1985954|Seq4_A/gadwall/North Carolina/AH018...</td>\n",
       "      <td>EPI1985947|Seq5_A/gadwall/North Carolina/AH018...</td>\n",
       "      <td>EPI1985953|Seq6_A/gadwall/North Carolina/AH018...</td>\n",
       "      <td>EPI1985949|Seq7_A/gadwall/North Carolina/AH018...</td>\n",
       "      <td>EPI1985948|Seq8_A/gadwall/North Carolina/AH018...</td>\n",
       "      <td>NaN</td>\n",
       "      <td>...</td>\n",
       "      <td>NaN</td>\n",
       "      <td>NaN</td>\n",
       "      <td>NaN</td>\n",
       "      <td>NaN</td>\n",
       "      <td>NaN</td>\n",
       "      <td>NaN</td>\n",
       "      <td>NaN</td>\n",
       "      <td>NaN</td>\n",
       "      <td>NaN</td>\n",
       "      <td>NaN</td>\n",
       "    </tr>\n",
       "    <tr>\n",
       "      <th>4</th>\n",
       "      <td>EPI_ISL_9880152</td>\n",
       "      <td>EPI1985959|Seq1_A/northern shoveler/North Caro...</td>\n",
       "      <td>EPI1985960|Seq2_A/northern shoveler/North Caro...</td>\n",
       "      <td>EPI1985958|Seq3_A/northern shoveler/North Caro...</td>\n",
       "      <td>EPI1985962|Seq4_A/northern shoveler/North Caro...</td>\n",
       "      <td>EPI1985955|Seq5_A/northern shoveler/North Caro...</td>\n",
       "      <td>EPI1985961|Seq6_A/northern shoveler/North Caro...</td>\n",
       "      <td>EPI1985957|Seq7_A/northern shoveler/North Caro...</td>\n",
       "      <td>EPI1985956|Seq8_A/northern shoveler/North Caro...</td>\n",
       "      <td>NaN</td>\n",
       "      <td>...</td>\n",
       "      <td>NaN</td>\n",
       "      <td>NaN</td>\n",
       "      <td>NaN</td>\n",
       "      <td>NaN</td>\n",
       "      <td>NaN</td>\n",
       "      <td>NaN</td>\n",
       "      <td>NaN</td>\n",
       "      <td>NaN</td>\n",
       "      <td>NaN</td>\n",
       "      <td>NaN</td>\n",
       "    </tr>\n",
       "  </tbody>\n",
       "</table>\n",
       "<p>5 rows × 64 columns</p>\n",
       "</div>"
      ],
      "text/plain": [
       "        Isolate_Id                                     PB2 Segment_Id  \\\n",
       "0  EPI_ISL_9880015  EPI1985927|Seq1 [organism=Influenza A virus](A...   \n",
       "1  EPI_ISL_9880019  EPI1985935|Seq1_A/mallard/North Carolina/AH018...   \n",
       "2  EPI_ISL_9880021  EPI1985943|Seq1_A/northern pintail/North Carol...   \n",
       "3  EPI_ISL_9880151  EPI1985951|Seq1_A/gadwall/North Carolina/AH018...   \n",
       "4  EPI_ISL_9880152  EPI1985959|Seq1_A/northern shoveler/North Caro...   \n",
       "\n",
       "                                      PB1 Segment_Id  \\\n",
       "0  EPI1985928|Seq2 [organism=Influenza A virus](A...   \n",
       "1  EPI1985936|Seq2_A/mallard/North Carolina/AH018...   \n",
       "2  EPI1985944|Seq2_A/northern pintail/North Carol...   \n",
       "3  EPI1985952|Seq2_A/gadwall/North Carolina/AH018...   \n",
       "4  EPI1985960|Seq2_A/northern shoveler/North Caro...   \n",
       "\n",
       "                                       PA Segment_Id  \\\n",
       "0  EPI1985926|Seq3 [organism=Influenza A virus](A...   \n",
       "1  EPI1985934|Seq3_A/mallard/North Carolina/AH018...   \n",
       "2  EPI1985942|Seq3_A/northern pintail/North Carol...   \n",
       "3  EPI1985950|Seq3_A/gadwall/North Carolina/AH018...   \n",
       "4  EPI1985958|Seq3_A/northern shoveler/North Caro...   \n",
       "\n",
       "                                       HA Segment_Id  \\\n",
       "0  EPI1985930|Seq4 [organism=Influenza A virus](A...   \n",
       "1  EPI1985938|Seq4_A/mallard/North Carolina/AH018...   \n",
       "2  EPI1985946|Seq4_A/northern pintail/North Carol...   \n",
       "3  EPI1985954|Seq4_A/gadwall/North Carolina/AH018...   \n",
       "4  EPI1985962|Seq4_A/northern shoveler/North Caro...   \n",
       "\n",
       "                                       NP Segment_Id  \\\n",
       "0  EPI1985923|Seq5 [organism=Influenza A virus](A...   \n",
       "1  EPI1985931|Seq5_A/mallard/North Carolina/AH018...   \n",
       "2  EPI1985939|Seq5_A/northern pintail/North Carol...   \n",
       "3  EPI1985947|Seq5_A/gadwall/North Carolina/AH018...   \n",
       "4  EPI1985955|Seq5_A/northern shoveler/North Caro...   \n",
       "\n",
       "                                       NA Segment_Id  \\\n",
       "0  EPI1985929|Seq6 [organism=Influenza A virus](A...   \n",
       "1  EPI1985937|Seq6_A/mallard/North Carolina/AH018...   \n",
       "2  EPI1985945|Seq6_A/northern pintail/North Carol...   \n",
       "3  EPI1985953|Seq6_A/gadwall/North Carolina/AH018...   \n",
       "4  EPI1985961|Seq6_A/northern shoveler/North Caro...   \n",
       "\n",
       "                                       MP Segment_Id  \\\n",
       "0  EPI1985925|Seq7 [organism=Influenza A virus](A...   \n",
       "1  EPI1985933|Seq7_A/mallard/North Carolina/AH018...   \n",
       "2  EPI1985941|Seq7_A/northern pintail/North Carol...   \n",
       "3  EPI1985949|Seq7_A/gadwall/North Carolina/AH018...   \n",
       "4  EPI1985957|Seq7_A/northern shoveler/North Caro...   \n",
       "\n",
       "                                       NS Segment_Id  HE Segment_Id  ...  \\\n",
       "0  EPI1985924|Seq8 [organism=Influenza A virus](A...            NaN  ...   \n",
       "1  EPI1985932|Seq8_A/mallard/North Carolina/AH018...            NaN  ...   \n",
       "2  EPI1985940|Seq8_A/northern pintail/North Carol...            NaN  ...   \n",
       "3  EPI1985948|Seq8_A/gadwall/North Carolina/AH018...            NaN  ...   \n",
       "4  EPI1985956|Seq8_A/northern shoveler/North Caro...            NaN  ...   \n",
       "\n",
       "   PB2 INSDC_Upload PB1 INSDC_Upload PA INSDC_Upload  HA INSDC_Upload  \\\n",
       "0               NaN              NaN             NaN              NaN   \n",
       "1               NaN              NaN             NaN              NaN   \n",
       "2               NaN              NaN             NaN              NaN   \n",
       "3               NaN              NaN             NaN              NaN   \n",
       "4               NaN              NaN             NaN              NaN   \n",
       "\n",
       "  NP INSDC_Upload NA INSDC_Upload MP INSDC_Upload NS INSDC_Upload  \\\n",
       "0             NaN             NaN             NaN             NaN   \n",
       "1             NaN             NaN             NaN             NaN   \n",
       "2             NaN             NaN             NaN             NaN   \n",
       "3             NaN             NaN             NaN             NaN   \n",
       "4             NaN             NaN             NaN             NaN   \n",
       "\n",
       "  HE INSDC_Upload P3 INSDC_Upload  \n",
       "0             NaN             NaN  \n",
       "1             NaN             NaN  \n",
       "2             NaN             NaN  \n",
       "3             NaN             NaN  \n",
       "4             NaN             NaN  \n",
       "\n",
       "[5 rows x 64 columns]"
      ]
     },
     "execution_count": 4,
     "metadata": {},
     "output_type": "execute_result"
    }
   ],
   "source": [
    "meta_raw = pd.DataFrame(pd.read_excel(input_gisaid))\n",
    "meta_raw.head()"
   ]
  },
  {
   "cell_type": "markdown",
   "id": "33b1de16-d5dc-4a37-a898-73bdc32fe731",
   "metadata": {},
   "source": [
    "Keep only the columns we are interested in."
   ]
  },
  {
   "cell_type": "code",
   "execution_count": 5,
   "id": "ee40bc3c-4b97-4071-8f94-30f9a49afd09",
   "metadata": {},
   "outputs": [],
   "source": [
    "retained_cols = [\n",
    "    'Isolate_Name',\n",
    "    'Collection_Date',\n",
    "    'Isolate_Id',\n",
    "    'Location',\n",
    "    'Host',\n",
    "    'Submitting_Lab',\n",
    "    'Originating_Lab']\n",
    "\n",
    "meta_working = meta_raw[retained_cols]"
   ]
  },
  {
   "cell_type": "markdown",
   "id": "0ca6373c-9220-4113-b7f2-5076b976bb84",
   "metadata": {},
   "source": [
    "Standardize column name formatting:\n",
    "- all lowercase\n",
    "- underscore for word separation (already true)"
   ]
  },
  {
   "cell_type": "code",
   "execution_count": 6,
   "id": "0c46add5-ffb7-4a2a-91c5-d8f6fab8019c",
   "metadata": {},
   "outputs": [],
   "source": [
    "meta_working.columns = [c.lower() for c in meta_working.columns]"
   ]
  },
  {
   "cell_type": "markdown",
   "id": "43ee7fc1-4900-4dea-92c0-69ee9674882b",
   "metadata": {},
   "source": [
    "Provide [required columns](https://docs.nextstrain.org/projects/ncov/en/wdl-optionals/analysis/data-prep.html#required-metadata) for Nextstrain."
   ]
  },
  {
   "cell_type": "code",
   "execution_count": 7,
   "id": "11f117a8-9f16-4e6c-ac1e-9f0821400412",
   "metadata": {},
   "outputs": [],
   "source": [
    "meta_working = meta_working.rename(\n",
    "    columns = {\n",
    "        'isolate_name': 'strain',\n",
    "        'collection_date': 'date'\n",
    "    }\n",
    ")\n",
    "meta_working['virus'] = 'avian_flu'"
   ]
  },
  {
   "cell_type": "markdown",
   "id": "a256ecb6-217d-473e-bec0-d12ee1cb0910",
   "metadata": {},
   "source": [
    "## Parse metadata"
   ]
  },
  {
   "cell_type": "markdown",
   "id": "3e0d2309-a31c-47cb-b143-85d8ce7d35a9",
   "metadata": {},
   "source": [
    "### Parse country"
   ]
  },
  {
   "cell_type": "code",
   "execution_count": 8,
   "id": "6020c873-83df-4f5d-97c0-4e0fdde6fc13",
   "metadata": {},
   "outputs": [],
   "source": [
    "split_columns = meta_working['location'].str.split(' / ', expand=True)\n",
    "meta_working['region'] = split_columns[0]\n",
    "meta_working['country'] = split_columns[1]"
   ]
  },
  {
   "cell_type": "code",
   "execution_count": 9,
   "id": "8ddff689",
   "metadata": {},
   "outputs": [
    {
     "data": {
      "text/plain": [
       "array(['Avian', 'Turkey', 'Chicken', 'Pheasant', 'Mallard', 'Duck',\n",
       "       'Goose', 'Gallus gallus domesticus', 'Domestic goose', 'Ostrich',\n",
       "       'Other mammals', 'Meleagris gallopavo', 'Seal', 'mammals',\n",
       "       'Haliaeetus leucocephalus', 'Anser caerulescens', 'Sterna hirundo',\n",
       "       'Somateria mollissima', 'Anser rossii', 'Lophodytes cucullatus',\n",
       "       'Aythya affinis', 'Buteo jamaicensis', 'Gallus gallus',\n",
       "       'Guineafowl', 'Wild bird', 'Branta canadensis', 'Other avian',\n",
       "       'Leucophaeus', 'Crow', 'Larus smithsonianus', 'Calidris alba',\n",
       "       'Falco peregrinus', 'Larus marinus', 'Gull', 'Cormorant',\n",
       "       'Buteo lineatus', 'Host', 'Wild birds', 'Eagle', 'Swan',\n",
       "       'Larus argentatus', 'Falcon', 'Human', 'Felis catus',\n",
       "       'Wild waterfowl', 'Anseriformes sp.', 'Larus delawarensis',\n",
       "       'Cairina moschata', 'Larus', 'Mink', 'Animal'], dtype=object)"
      ]
     },
     "execution_count": 9,
     "metadata": {},
     "output_type": "execute_result"
    }
   ],
   "source": [
    "meta_working['host'].unique()"
   ]
  },
  {
   "cell_type": "markdown",
   "id": "083ac99e-c517-4eb4-85a3-d7066f72d3f5",
   "metadata": {},
   "source": [
    "### Parse host"
   ]
  },
  {
   "cell_type": "code",
   "execution_count": 10,
   "id": "0235fa76-3dff-4ce3-a987-831293ed0d3b",
   "metadata": {},
   "outputs": [],
   "source": [
    "# Rename raw host column:\n",
    "meta_working = meta_working.rename(\n",
    "    columns = {\n",
    "        'host': 'host_raw',\n",
    "    }\n",
    ")\n",
    "\n",
    "# Empirical lists of avian and human values\n",
    "hosts_avian = ['Avian', 'Turkey', 'Chicken',\n",
    "               'Pheasant', 'Mallard', 'Duck',\n",
    "               'Goose', 'Gallus gallus domesticus',\n",
    "               'Domestic goose', 'Ostrich', 'Meleagris gallopavo', \n",
    "                'Haliaeetus leucocephalus', 'Anser caerulescens',\n",
    "                'Sterna hirundo', 'Somateria mollissima', 'Anser rossii',\n",
    "                'Lophodytes cucullatus', 'Aythya affinis',\n",
    "                'Buteo jamaicensis', 'Gallus gallus', 'Guineafowl',\n",
    "                'Wild bird', 'Branta canadensis', 'Other avian', \n",
    "                'Leucophaeus', 'Crow', 'Larus smithsonianus',\n",
    "                'Calidris alba', 'Falco peregrinus', 'Larus marinus',\n",
    "                'Gull', 'Cormorant', 'Buteo lineatus', 'Wild birds',\n",
    "                'Eagle', 'Swan', 'Larus argentatus', 'Falcon',\n",
    "                'Wild waterfowl', 'Anseriformes sp.', 'Larus delawarensis',\n",
    "                'Cairina moschata', 'Larus']\n",
    "hosts_mammal = ['Other mammals', 'Seal', 'mammals', 'Felis catus', 'Mink',]\n",
    "\n",
    "def label_host(val):\n",
    "    if val in hosts_avian:\n",
    "        return 'Avian'\n",
    "    elif val in hosts_mammal:\n",
    "        return 'Mammal'\n",
    "    elif val == 'Human':\n",
    "        return 'Human'\n",
    "    else:\n",
    "        return np.nan\n",
    "\n",
    "meta_working['host'] = (\n",
    "    meta_working['host_raw']\n",
    "    .apply(label_host))"
   ]
  },
  {
   "cell_type": "markdown",
   "id": "5c1485fa-004f-44b4-a843-a9291c04580d",
   "metadata": {},
   "source": [
    "## Clean dataframe\n",
    "Clean up values."
   ]
  },
  {
   "cell_type": "markdown",
   "id": "b7eb0777-0370-4d58-b0a1-73ff75c763ea",
   "metadata": {},
   "source": [
    "Clean strain names"
   ]
  },
  {
   "cell_type": "code",
   "execution_count": 11,
   "id": "7c4c3d6a-e3a9-4e15-aa0f-f52b19d2ebec",
   "metadata": {},
   "outputs": [],
   "source": [
    "meta_working['strain'] = (\n",
    "    meta_working['strain']\n",
    "    .str.strip().replace(' ', '_', regex=False)\n",
    ")"
   ]
  },
  {
   "cell_type": "markdown",
   "id": "e423e605-405e-4358-b347-f4a8c6e4636b",
   "metadata": {},
   "source": [
    "## Export for Augur\n",
    "Export tab-delimited file (TSV) for input into Augur.\n",
    "\n",
    "- Replace `NaN` values with a question mark character (`?`), as preferred by Augur.\n",
    "- Drop raw columns that have been parsed to new, expanded columns.\n",
    "- Put columns in preferred order. This is not necessary for Augur, but provides a standard order for my own human reading.\n",
    "- **Drop duplicate strains.**"
   ]
  },
  {
   "cell_type": "code",
   "execution_count": 12,
   "id": "e46278c5-b9ba-4fa5-a96c-aa2cb3c0a303",
   "metadata": {},
   "outputs": [],
   "source": [
    "col_order = [\n",
    "    'strain',\n",
    "    'date',\n",
    "    'virus',\n",
    "    'region', \n",
    "    'country',\n",
    "    'host', \n",
    "    'isolate_id',\n",
    "    'submitting_lab',\n",
    "    'originating_lab']\n",
    "\n",
    "meta_working = meta_working[col_order]\n",
    "\n",
    "meta_clean = meta_working.fillna('?')\n",
    "\n",
    "meta_clean = meta_clean.drop_duplicates(subset='strain', keep=False)\n",
    "\n",
    "meta_clean.to_csv(export_augur, sep='\\t', index=False, header=True)"
   ]
  },
  {
   "cell_type": "code",
   "execution_count": null,
   "id": "c938f0df",
   "metadata": {},
   "outputs": [],
   "source": []
  }
 ],
 "metadata": {
  "kernelspec": {
   "display_name": "Python 3 (ipykernel)",
   "language": "python",
   "name": "python3"
  },
  "language_info": {
   "codemirror_mode": {
    "name": "ipython",
    "version": 3
   },
   "file_extension": ".py",
   "mimetype": "text/x-python",
   "name": "python",
   "nbconvert_exporter": "python",
   "pygments_lexer": "ipython3",
   "version": "3.11.6"
  }
 },
 "nbformat": 4,
 "nbformat_minor": 5
}
