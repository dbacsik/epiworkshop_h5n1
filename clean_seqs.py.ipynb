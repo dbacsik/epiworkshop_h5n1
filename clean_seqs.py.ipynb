{
 "cells": [
  {
   "cell_type": "code",
   "execution_count": 2,
   "metadata": {},
   "outputs": [],
   "source": [
    "from Bio import SeqIO\n",
    "import pandas as pd\n",
    "import re"
   ]
  },
  {
   "cell_type": "code",
   "execution_count": 3,
   "metadata": {},
   "outputs": [],
   "source": [
    "import pandas as pd\n",
    "def clean_strain_names(id):\n",
    "    output_id = id.strip()\n",
    "    output_id = re.sub(r'\\s', '_', output_id)\n",
    "    output_id = re.sub(r\"'\", '-', output_id)\n",
    "    output_id = re.sub(r'ñ', 'n', output_id)\n",
    "    output_id = re.sub(r'ã', 'a', output_id)\n",
    "    return output_id\n",
    "\n",
    "\n"
   ]
  },
  {
   "cell_type": "code",
   "execution_count": 4,
   "metadata": {},
   "outputs": [],
   "source": [
    "output_seqs = list()\n",
    "\n",
    "with open(\"h3n2/data/raw/south_america_Jun2018_Now.fasta\") as handle:\n",
    "    for record in SeqIO.parse(handle, \"fasta\"):\n",
    "        id = record.id.split(\"|\")[0]\n",
    "        id = clean_strain_names(id)\n",
    "        seq = str(record.seq)\n",
    "        output_seqs.append([id,seq])"
   ]
  },
  {
   "cell_type": "code",
   "execution_count": 5,
   "metadata": {},
   "outputs": [],
   "source": [
    "# with open(\"h3n2/data/clean/south_america_clean.fasta\", \"w\") as output_handle:\n",
    "#     SeqIO.write(output_seqs, output_handle, \"fasta\")"
   ]
  },
  {
   "cell_type": "code",
   "execution_count": 6,
   "metadata": {},
   "outputs": [
    {
     "data": {
      "text/html": [
       "<div>\n",
       "<style scoped>\n",
       "    .dataframe tbody tr th:only-of-type {\n",
       "        vertical-align: middle;\n",
       "    }\n",
       "\n",
       "    .dataframe tbody tr th {\n",
       "        vertical-align: top;\n",
       "    }\n",
       "\n",
       "    .dataframe thead th {\n",
       "        text-align: right;\n",
       "    }\n",
       "</style>\n",
       "<table border=\"1\" class=\"dataframe\">\n",
       "  <thead>\n",
       "    <tr style=\"text-align: right;\">\n",
       "      <th></th>\n",
       "      <th>id</th>\n",
       "      <th>seq</th>\n",
       "    </tr>\n",
       "  </thead>\n",
       "  <tbody>\n",
       "    <tr>\n",
       "      <th>0</th>\n",
       "      <td>A/Santa_Catarina/927/2019</td>\n",
       "      <td>agcaaaagcaggggataattctattaaccatgaagactatcattgc...</td>\n",
       "    </tr>\n",
       "    <tr>\n",
       "      <th>1</th>\n",
       "      <td>A/Rio_de_Janeiro/416/2020</td>\n",
       "      <td>agcaaaagcaggggataattctattaaccatgaagactatcattgc...</td>\n",
       "    </tr>\n",
       "    <tr>\n",
       "      <th>2</th>\n",
       "      <td>A/Santa_Catarina/965/2019</td>\n",
       "      <td>agcaaaagcaggggataattctattaaccatgaagactatcattgc...</td>\n",
       "    </tr>\n",
       "    <tr>\n",
       "      <th>3</th>\n",
       "      <td>A/Santa_Catarina/947/2019</td>\n",
       "      <td>agcaaaagcaggggataattctattaaccatgaagactatcattgc...</td>\n",
       "    </tr>\n",
       "    <tr>\n",
       "      <th>4</th>\n",
       "      <td>A/Santa_Catarina/1127/2019</td>\n",
       "      <td>agcaaaagcaggggataattctattaaccatgaagactatcattgc...</td>\n",
       "    </tr>\n",
       "  </tbody>\n",
       "</table>\n",
       "</div>"
      ],
      "text/plain": [
       "                           id  \\\n",
       "0   A/Santa_Catarina/927/2019   \n",
       "1   A/Rio_de_Janeiro/416/2020   \n",
       "2   A/Santa_Catarina/965/2019   \n",
       "3   A/Santa_Catarina/947/2019   \n",
       "4  A/Santa_Catarina/1127/2019   \n",
       "\n",
       "                                                 seq  \n",
       "0  agcaaaagcaggggataattctattaaccatgaagactatcattgc...  \n",
       "1  agcaaaagcaggggataattctattaaccatgaagactatcattgc...  \n",
       "2  agcaaaagcaggggataattctattaaccatgaagactatcattgc...  \n",
       "3  agcaaaagcaggggataattctattaaccatgaagactatcattgc...  \n",
       "4  agcaaaagcaggggataattctattaaccatgaagactatcattgc...  "
      ]
     },
     "execution_count": 6,
     "metadata": {},
     "output_type": "execute_result"
    }
   ],
   "source": [
    "output_df = pd.DataFrame(output_seqs, columns=[\"id\", \"seq\"])\n",
    "output_df.head()"
   ]
  },
  {
   "cell_type": "code",
   "execution_count": null,
   "metadata": {},
   "outputs": [],
   "source": []
  }
 ],
 "metadata": {
  "kernelspec": {
   "display_name": "Python 3 (ipykernel)",
   "language": "python",
   "name": "python3"
  },
  "language_info": {
   "codemirror_mode": {
    "name": "ipython",
    "version": 3
   },
   "file_extension": ".py",
   "mimetype": "text/x-python",
   "name": "python",
   "nbconvert_exporter": "python",
   "pygments_lexer": "ipython3",
   "version": "3.11.6"
  }
 },
 "nbformat": 4,
 "nbformat_minor": 2
}
